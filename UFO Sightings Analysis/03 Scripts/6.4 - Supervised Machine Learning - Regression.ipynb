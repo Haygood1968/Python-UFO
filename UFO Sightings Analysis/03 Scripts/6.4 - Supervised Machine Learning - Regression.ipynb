{
 "cells": [
  {
   "cell_type": "markdown",
   "id": "2a0e9736",
   "metadata": {},
   "source": [
    "### Script contents:\n",
    "\n",
    "#### 1. Importing libraries and data\n",
    "#### 2. Data cleaning\n",
    "#### 3. Visual exploration & data prep\n",
    "#### 4. Regression analysis\n",
    "#### 5. Bonus: performance improvement after removing outliers"
   ]
  },
  {
   "cell_type": "markdown",
   "id": "2c42b05f",
   "metadata": {},
   "source": [
    "### 1. Importing libraries and data"
   ]
  },
  {
   "cell_type": "code",
   "execution_count": 1,
   "id": "ab1f696c",
   "metadata": {},
   "outputs": [],
   "source": [
    "import pandas as pd\n",
    "import numpy as np\n",
    "import seaborn as sns\n",
    "import matplotlib\n",
    "import matplotlib.pyplot as plt\n",
    "import os\n",
    "import sklearn\n",
    "from sklearn.model_selection import train_test_split \n",
    "from sklearn.linear_model import LinearRegression\n",
    "from sklearn.metrics import mean_squared_error, r2_score"
   ]
  },
  {
   "cell_type": "code",
   "execution_count": 2,
   "id": "035e7e5b",
   "metadata": {},
   "outputs": [],
   "source": [
    "# prompt matplotlib visuals to appear in notebook \n",
    "%matplotlib inline"
   ]
  },
  {
   "cell_type": "code",
   "execution_count": 3,
   "id": "6109cbed",
   "metadata": {},
   "outputs": [],
   "source": [
    "# Define path\n",
    "path = r'C:\\Users\\Jay\\Documents\\UFO Sightings Analysis'"
   ]
  },
  {
   "cell_type": "code",
   "execution_count": 4,
   "id": "9158b419",
   "metadata": {},
   "outputs": [],
   "source": [
    "# Import most recent data set\n",
    "df = pd.read_csv(os.path.join(path, '02 Data Sets', 'Prepared Data', 'ufo_sighting_data_mapped.csv')) "
   ]
  },
  {
   "cell_type": "markdown",
   "id": "339ab892",
   "metadata": {},
   "source": [
    "### 2. Data cleaning"
   ]
  },
  {
   "cell_type": "code",
   "execution_count": 5,
   "id": "2e6fccc5",
   "metadata": {},
   "outputs": [
    {
     "data": {
      "text/plain": [
       "Index(['Unnamed: 0', 'Date_time', 'city', 'state/province', 'country',\n",
       "       'UFO_shape', 'length_seconds', 'duration_description', 'description',\n",
       "       'date_documented', 'latitude', 'longitude'],\n",
       "      dtype='object')"
      ]
     },
     "execution_count": 5,
     "metadata": {},
     "output_type": "execute_result"
    }
   ],
   "source": [
    "df.columns"
   ]
  },
  {
   "cell_type": "code",
   "execution_count": 6,
   "id": "c926e8f4",
   "metadata": {
    "scrolled": true
   },
   "outputs": [
    {
     "data": {
      "text/html": [
       "<div>\n",
       "<style scoped>\n",
       "    .dataframe tbody tr th:only-of-type {\n",
       "        vertical-align: middle;\n",
       "    }\n",
       "\n",
       "    .dataframe tbody tr th {\n",
       "        vertical-align: top;\n",
       "    }\n",
       "\n",
       "    .dataframe thead th {\n",
       "        text-align: right;\n",
       "    }\n",
       "</style>\n",
       "<table border=\"1\" class=\"dataframe\">\n",
       "  <thead>\n",
       "    <tr style=\"text-align: right;\">\n",
       "      <th></th>\n",
       "      <th>Unnamed: 0</th>\n",
       "      <th>Date_time</th>\n",
       "      <th>city</th>\n",
       "      <th>state/province</th>\n",
       "      <th>country</th>\n",
       "      <th>UFO_shape</th>\n",
       "      <th>length_seconds</th>\n",
       "      <th>duration_description</th>\n",
       "      <th>description</th>\n",
       "      <th>date_documented</th>\n",
       "      <th>latitude</th>\n",
       "      <th>longitude</th>\n",
       "    </tr>\n",
       "  </thead>\n",
       "  <tbody>\n",
       "    <tr>\n",
       "      <th>0</th>\n",
       "      <td>0</td>\n",
       "      <td>5/8/2014 18:45</td>\n",
       "      <td>inverloch</td>\n",
       "      <td>none</td>\n",
       "      <td>Australia</td>\n",
       "      <td>light</td>\n",
       "      <td>300</td>\n",
       "      <td>5 minutes</td>\n",
       "      <td>Bright orange light travelling above inverloch...</td>\n",
       "      <td>5/8/2014</td>\n",
       "      <td>-38.627</td>\n",
       "      <td>145.723</td>\n",
       "    </tr>\n",
       "    <tr>\n",
       "      <th>1</th>\n",
       "      <td>1</td>\n",
       "      <td>10/7/2013 20:00</td>\n",
       "      <td>oklahoma</td>\n",
       "      <td>OK</td>\n",
       "      <td>United States</td>\n",
       "      <td>circle</td>\n",
       "      <td>10526400</td>\n",
       "      <td>4 months</td>\n",
       "      <td>Bright flying orb.</td>\n",
       "      <td>10/14/2013</td>\n",
       "      <td>35.468</td>\n",
       "      <td>-97.516</td>\n",
       "    </tr>\n",
       "    <tr>\n",
       "      <th>2</th>\n",
       "      <td>2</td>\n",
       "      <td>8/3/2008 21:00</td>\n",
       "      <td>virginia beach</td>\n",
       "      <td>VA</td>\n",
       "      <td>United States</td>\n",
       "      <td>fireball</td>\n",
       "      <td>10526400</td>\n",
       "      <td>4 months</td>\n",
       "      <td>this object was very high up and emmited no so...</td>\n",
       "      <td>8/12/2008</td>\n",
       "      <td>36.853</td>\n",
       "      <td>-75.978</td>\n",
       "    </tr>\n",
       "    <tr>\n",
       "      <th>3</th>\n",
       "      <td>3</td>\n",
       "      <td>3/1/1994 1:00</td>\n",
       "      <td>menifee</td>\n",
       "      <td>CA</td>\n",
       "      <td>United States</td>\n",
       "      <td>unknown</td>\n",
       "      <td>10526400</td>\n",
       "      <td>4 months</td>\n",
       "      <td>Sun City / Menifee UFO sightings in 1994</td>\n",
       "      <td>2/22/2005</td>\n",
       "      <td>33.728</td>\n",
       "      <td>-117.146</td>\n",
       "    </tr>\n",
       "    <tr>\n",
       "      <th>4</th>\n",
       "      <td>4</td>\n",
       "      <td>1/1/1977 2:30</td>\n",
       "      <td>new canaan</td>\n",
       "      <td>CT</td>\n",
       "      <td>United States</td>\n",
       "      <td>unknown</td>\n",
       "      <td>9468000</td>\n",
       "      <td>2-3 years</td>\n",
       "      <td>possible abductions when I was a kid living in...</td>\n",
       "      <td>11/19/1998</td>\n",
       "      <td>41.147</td>\n",
       "      <td>-73.495</td>\n",
       "    </tr>\n",
       "    <tr>\n",
       "      <th>5</th>\n",
       "      <td>5</td>\n",
       "      <td>3/15/1984 20:00</td>\n",
       "      <td>griffin</td>\n",
       "      <td>GA</td>\n",
       "      <td>United States</td>\n",
       "      <td>circle</td>\n",
       "      <td>7894800</td>\n",
       "      <td>3 months</td>\n",
       "      <td>7 large yellow lights with red center  estimat...</td>\n",
       "      <td>5/15/2006</td>\n",
       "      <td>33.247</td>\n",
       "      <td>-84.264</td>\n",
       "    </tr>\n",
       "    <tr>\n",
       "      <th>6</th>\n",
       "      <td>6</td>\n",
       "      <td>6/15/2012 21:00</td>\n",
       "      <td>huntington</td>\n",
       "      <td>NY</td>\n",
       "      <td>United States</td>\n",
       "      <td>light</td>\n",
       "      <td>6312000</td>\n",
       "      <td>1-2 years</td>\n",
       "      <td>Strange lights in the sky that move and follow...</td>\n",
       "      <td>10/14/2013</td>\n",
       "      <td>40.868</td>\n",
       "      <td>-73.426</td>\n",
       "    </tr>\n",
       "    <tr>\n",
       "      <th>7</th>\n",
       "      <td>7</td>\n",
       "      <td>12/31/2009 23:30</td>\n",
       "      <td>livingston</td>\n",
       "      <td>LA</td>\n",
       "      <td>United States</td>\n",
       "      <td>unknown</td>\n",
       "      <td>6312000</td>\n",
       "      <td>new years</td>\n",
       "      <td>The 12 UFO we seen brite yellow like a street ...</td>\n",
       "      <td>2/14/2010</td>\n",
       "      <td>30.502</td>\n",
       "      <td>-90.748</td>\n",
       "    </tr>\n",
       "    <tr>\n",
       "      <th>8</th>\n",
       "      <td>8</td>\n",
       "      <td>12/31/2006 23:00</td>\n",
       "      <td>imperial desert</td>\n",
       "      <td>CA</td>\n",
       "      <td>United States</td>\n",
       "      <td>oval</td>\n",
       "      <td>6312000</td>\n",
       "      <td>new years eve</td>\n",
       "      <td>The Object was more round than Oval. It was be...</td>\n",
       "      <td>2/1/2007</td>\n",
       "      <td>32.841</td>\n",
       "      <td>-115.590</td>\n",
       "    </tr>\n",
       "    <tr>\n",
       "      <th>9</th>\n",
       "      <td>9</td>\n",
       "      <td>8/8/2004 12:00</td>\n",
       "      <td>united states</td>\n",
       "      <td>none</td>\n",
       "      <td>United States</td>\n",
       "      <td>unknown</td>\n",
       "      <td>6312000</td>\n",
       "      <td>years</td>\n",
       "      <td>I thought I saw a UFO but it was a homeland se...</td>\n",
       "      <td>12/14/2004</td>\n",
       "      <td>37.090</td>\n",
       "      <td>-95.713</td>\n",
       "    </tr>\n",
       "    <tr>\n",
       "      <th>10</th>\n",
       "      <td>10</td>\n",
       "      <td>6/30/2002 22:00</td>\n",
       "      <td>honolulu</td>\n",
       "      <td>HI</td>\n",
       "      <td>United States</td>\n",
       "      <td>circle</td>\n",
       "      <td>6312000</td>\n",
       "      <td>years</td>\n",
       "      <td>Green glowing UFOs and some that look like sta...</td>\n",
       "      <td>2/1/2007</td>\n",
       "      <td>21.307</td>\n",
       "      <td>-157.858</td>\n",
       "    </tr>\n",
       "    <tr>\n",
       "      <th>11</th>\n",
       "      <td>11</td>\n",
       "      <td>5/7/2014 11:56</td>\n",
       "      <td>heswall</td>\n",
       "      <td>none</td>\n",
       "      <td>United Kingdom</td>\n",
       "      <td>triangle</td>\n",
       "      <td>40</td>\n",
       "      <td>40 seconds</td>\n",
       "      <td>((HOAX??))  Long triangle object moves with sp...</td>\n",
       "      <td>5/8/2014</td>\n",
       "      <td>53.317</td>\n",
       "      <td>-3.100</td>\n",
       "    </tr>\n",
       "    <tr>\n",
       "      <th>12</th>\n",
       "      <td>12</td>\n",
       "      <td>3/1/1993 5:30</td>\n",
       "      <td>ganado</td>\n",
       "      <td>AZ</td>\n",
       "      <td>United States</td>\n",
       "      <td>other</td>\n",
       "      <td>6312000</td>\n",
       "      <td>20years</td>\n",
       "      <td>For many years since 1978 to 2004 there have b...</td>\n",
       "      <td>8/7/2007</td>\n",
       "      <td>35.711</td>\n",
       "      <td>-109.541</td>\n",
       "    </tr>\n",
       "    <tr>\n",
       "      <th>13</th>\n",
       "      <td>13</td>\n",
       "      <td>24086</td>\n",
       "      <td>newtown square</td>\n",
       "      <td>PA</td>\n",
       "      <td>United States</td>\n",
       "      <td>fireball</td>\n",
       "      <td>6120000</td>\n",
       "      <td>1700hrs</td>\n",
       "      <td>DEC 1965  NEWTOWN SQUARE PENN   FLAMING BURNIN...</td>\n",
       "      <td>7/16/2006</td>\n",
       "      <td>39.987</td>\n",
       "      <td>-75.401</td>\n",
       "    </tr>\n",
       "    <tr>\n",
       "      <th>14</th>\n",
       "      <td>14</td>\n",
       "      <td>8/10/2012 21:00</td>\n",
       "      <td>finley</td>\n",
       "      <td>WA</td>\n",
       "      <td>United States</td>\n",
       "      <td>light</td>\n",
       "      <td>5263200</td>\n",
       "      <td>2 months</td>\n",
       "      <td>There have been several flying objects in a pe...</td>\n",
       "      <td>8/19/2012</td>\n",
       "      <td>46.154</td>\n",
       "      <td>-119.033</td>\n",
       "    </tr>\n",
       "    <tr>\n",
       "      <th>15</th>\n",
       "      <td>15</td>\n",
       "      <td>8/24/2002 1:00</td>\n",
       "      <td>englewood</td>\n",
       "      <td>FL</td>\n",
       "      <td>United States</td>\n",
       "      <td>light</td>\n",
       "      <td>5263200</td>\n",
       "      <td>2 months</td>\n",
       "      <td>bright stars  moving erratically  over the Gul...</td>\n",
       "      <td>8/28/2002</td>\n",
       "      <td>26.962</td>\n",
       "      <td>-82.353</td>\n",
       "    </tr>\n",
       "    <tr>\n",
       "      <th>16</th>\n",
       "      <td>16</td>\n",
       "      <td>28523</td>\n",
       "      <td>detroit</td>\n",
       "      <td>MI</td>\n",
       "      <td>United States</td>\n",
       "      <td>unknown</td>\n",
       "      <td>5263200</td>\n",
       "      <td>1-2 months</td>\n",
       "      <td>Detroit UFO Flap of February 1978</td>\n",
       "      <td>4/27/2007</td>\n",
       "      <td>42.331</td>\n",
       "      <td>-83.046</td>\n",
       "    </tr>\n",
       "    <tr>\n",
       "      <th>17</th>\n",
       "      <td>17</td>\n",
       "      <td>6/1/1988 22:00</td>\n",
       "      <td>walnut creek</td>\n",
       "      <td>CA</td>\n",
       "      <td>United States</td>\n",
       "      <td>unknown</td>\n",
       "      <td>4838400</td>\n",
       "      <td>4-8 weeks</td>\n",
       "      <td>I was a young child and had very scary nightma...</td>\n",
       "      <td>9/28/2002</td>\n",
       "      <td>37.906</td>\n",
       "      <td>-122.064</td>\n",
       "    </tr>\n",
       "    <tr>\n",
       "      <th>18</th>\n",
       "      <td>18</td>\n",
       "      <td>9/15/1966 9:00</td>\n",
       "      <td>clifton</td>\n",
       "      <td>TX</td>\n",
       "      <td>United States</td>\n",
       "      <td>flash</td>\n",
       "      <td>3654000</td>\n",
       "      <td>o830 to1015 hrs</td>\n",
       "      <td>I think I was Taken and accidently put in a di...</td>\n",
       "      <td>4/8/2002</td>\n",
       "      <td>31.782</td>\n",
       "      <td>-97.576</td>\n",
       "    </tr>\n",
       "    <tr>\n",
       "      <th>19</th>\n",
       "      <td>19</td>\n",
       "      <td>5/6/2014 21:32</td>\n",
       "      <td>ancaster</td>\n",
       "      <td>ON</td>\n",
       "      <td>Canada</td>\n",
       "      <td>triangle</td>\n",
       "      <td>240</td>\n",
       "      <td>4 minutes</td>\n",
       "      <td>Whilst driving to Caledonia  I saw around 3 / ...</td>\n",
       "      <td>5/8/2014</td>\n",
       "      <td>43.225</td>\n",
       "      <td>-79.980</td>\n",
       "    </tr>\n",
       "  </tbody>\n",
       "</table>\n",
       "</div>"
      ],
      "text/plain": [
       "    Unnamed: 0         Date_time             city state/province  \\\n",
       "0            0    5/8/2014 18:45       inverloch            none   \n",
       "1            1   10/7/2013 20:00         oklahoma             OK   \n",
       "2            2    8/3/2008 21:00   virginia beach             VA   \n",
       "3            3     3/1/1994 1:00          menifee             CA   \n",
       "4            4     1/1/1977 2:30       new canaan             CT   \n",
       "5            5   3/15/1984 20:00          griffin             GA   \n",
       "6            6   6/15/2012 21:00       huntington             NY   \n",
       "7            7  12/31/2009 23:30       livingston             LA   \n",
       "8            8  12/31/2006 23:00  imperial desert             CA   \n",
       "9            9    8/8/2004 12:00    united states           none   \n",
       "10          10   6/30/2002 22:00         honolulu             HI   \n",
       "11          11    5/7/2014 11:56         heswall            none   \n",
       "12          12     3/1/1993 5:30           ganado             AZ   \n",
       "13          13             24086   newtown square             PA   \n",
       "14          14   8/10/2012 21:00           finley             WA   \n",
       "15          15    8/24/2002 1:00        englewood             FL   \n",
       "16          16             28523         detroit              MI   \n",
       "17          17    6/1/1988 22:00     walnut creek             CA   \n",
       "18          18    9/15/1966 9:00         clifton              TX   \n",
       "19          19    5/6/2014 21:32        ancaster              ON   \n",
       "\n",
       "           country UFO_shape  length_seconds duration_description  \\\n",
       "0        Australia     light             300            5 minutes   \n",
       "1    United States    circle        10526400             4 months   \n",
       "2    United States  fireball        10526400             4 months   \n",
       "3    United States   unknown        10526400             4 months   \n",
       "4    United States   unknown         9468000            2-3 years   \n",
       "5    United States    circle         7894800             3 months   \n",
       "6    United States     light         6312000            1-2 years   \n",
       "7    United States   unknown         6312000            new years   \n",
       "8    United States      oval         6312000        new years eve   \n",
       "9    United States   unknown         6312000                years   \n",
       "10   United States    circle         6312000                years   \n",
       "11  United Kingdom  triangle              40           40 seconds   \n",
       "12   United States     other         6312000              20years   \n",
       "13   United States  fireball         6120000              1700hrs   \n",
       "14   United States     light         5263200             2 months   \n",
       "15   United States     light         5263200             2 months   \n",
       "16   United States   unknown         5263200           1-2 months   \n",
       "17   United States   unknown         4838400            4-8 weeks   \n",
       "18   United States     flash         3654000      o830 to1015 hrs   \n",
       "19          Canada  triangle             240            4 minutes   \n",
       "\n",
       "                                          description date_documented  \\\n",
       "0   Bright orange light travelling above inverloch...        5/8/2014   \n",
       "1                                  Bright flying orb.      10/14/2013   \n",
       "2   this object was very high up and emmited no so...       8/12/2008   \n",
       "3            Sun City / Menifee UFO sightings in 1994       2/22/2005   \n",
       "4   possible abductions when I was a kid living in...      11/19/1998   \n",
       "5   7 large yellow lights with red center  estimat...       5/15/2006   \n",
       "6   Strange lights in the sky that move and follow...      10/14/2013   \n",
       "7   The 12 UFO we seen brite yellow like a street ...       2/14/2010   \n",
       "8   The Object was more round than Oval. It was be...        2/1/2007   \n",
       "9   I thought I saw a UFO but it was a homeland se...      12/14/2004   \n",
       "10  Green glowing UFOs and some that look like sta...        2/1/2007   \n",
       "11  ((HOAX??))  Long triangle object moves with sp...        5/8/2014   \n",
       "12  For many years since 1978 to 2004 there have b...        8/7/2007   \n",
       "13  DEC 1965  NEWTOWN SQUARE PENN   FLAMING BURNIN...       7/16/2006   \n",
       "14  There have been several flying objects in a pe...       8/19/2012   \n",
       "15  bright stars  moving erratically  over the Gul...       8/28/2002   \n",
       "16                  Detroit UFO Flap of February 1978       4/27/2007   \n",
       "17  I was a young child and had very scary nightma...       9/28/2002   \n",
       "18  I think I was Taken and accidently put in a di...        4/8/2002   \n",
       "19  Whilst driving to Caledonia  I saw around 3 / ...        5/8/2014   \n",
       "\n",
       "    latitude  longitude  \n",
       "0    -38.627    145.723  \n",
       "1     35.468    -97.516  \n",
       "2     36.853    -75.978  \n",
       "3     33.728   -117.146  \n",
       "4     41.147    -73.495  \n",
       "5     33.247    -84.264  \n",
       "6     40.868    -73.426  \n",
       "7     30.502    -90.748  \n",
       "8     32.841   -115.590  \n",
       "9     37.090    -95.713  \n",
       "10    21.307   -157.858  \n",
       "11    53.317     -3.100  \n",
       "12    35.711   -109.541  \n",
       "13    39.987    -75.401  \n",
       "14    46.154   -119.033  \n",
       "15    26.962    -82.353  \n",
       "16    42.331    -83.046  \n",
       "17    37.906   -122.064  \n",
       "18    31.782    -97.576  \n",
       "19    43.225    -79.980  "
      ]
     },
     "execution_count": 6,
     "metadata": {},
     "output_type": "execute_result"
    }
   ],
   "source": [
    "df.head(20)"
   ]
  },
  {
   "cell_type": "code",
   "execution_count": 7,
   "id": "c7a1b7e7",
   "metadata": {},
   "outputs": [
    {
     "data": {
      "text/plain": [
       "(79997, 12)"
      ]
     },
     "execution_count": 7,
     "metadata": {},
     "output_type": "execute_result"
    }
   ],
   "source": [
    "df.shape"
   ]
  },
  {
   "cell_type": "code",
   "execution_count": 8,
   "id": "63db211b",
   "metadata": {},
   "outputs": [],
   "source": [
    "# Remove ambiguous number column as in Exercise 6.3\n",
    "del df['Unnamed: 0']"
   ]
  },
  {
   "cell_type": "code",
   "execution_count": 9,
   "id": "97da908f",
   "metadata": {},
   "outputs": [
    {
     "data": {
      "text/plain": [
       "(79997, 11)"
      ]
     },
     "execution_count": 9,
     "metadata": {},
     "output_type": "execute_result"
    }
   ],
   "source": [
    "df.shape"
   ]
  },
  {
   "cell_type": "markdown",
   "id": "fab8dce7",
   "metadata": {},
   "source": [
    "#### Missing values"
   ]
  },
  {
   "cell_type": "code",
   "execution_count": 10,
   "id": "ab9f531a",
   "metadata": {},
   "outputs": [
    {
     "data": {
      "text/plain": [
       "Date_time               0\n",
       "city                    0\n",
       "state/province          0\n",
       "country                 0\n",
       "UFO_shape               0\n",
       "length_seconds          0\n",
       "duration_description    0\n",
       "description             0\n",
       "date_documented         0\n",
       "latitude                0\n",
       "longitude               0\n",
       "dtype: int64"
      ]
     },
     "execution_count": 10,
     "metadata": {},
     "output_type": "execute_result"
    }
   ],
   "source": [
    "# Check for missing values\n",
    "df.isnull().sum()"
   ]
  },
  {
   "cell_type": "markdown",
   "id": "ce84ca90",
   "metadata": {},
   "source": [
    "##### No missing values found"
   ]
  },
  {
   "cell_type": "markdown",
   "id": "cf0b85fb",
   "metadata": {},
   "source": [
    "#### Extreme value checks"
   ]
  },
  {
   "cell_type": "code",
   "execution_count": 11,
   "id": "2f882a0c",
   "metadata": {},
   "outputs": [
    {
     "name": "stderr",
     "output_type": "stream",
     "text": [
      "C:\\Users\\Jay\\anaconda3\\lib\\site-packages\\seaborn\\distributions.py:2619: FutureWarning: `distplot` is a deprecated function and will be removed in a future version. Please adapt your code to use either `displot` (a figure-level function with similar flexibility) or `histplot` (an axes-level function for histograms).\n",
      "  warnings.warn(msg, FutureWarning)\n"
     ]
    },
    {
     "data": {
      "text/plain": [
       "<AxesSubplot:xlabel='length_seconds', ylabel='Density'>"
      ]
     },
     "execution_count": 11,
     "metadata": {},
     "output_type": "execute_result"
    },
    {
     "data": {
      "image/png": "[encoded data removed]",
      "text/plain": [
       "<Figure size 432x288 with 1 Axes>"
      ]
     },
     "metadata": {
      "needs_background": "light"
     },
     "output_type": "display_data"
    }
   ],
   "source": [
    "sns.distplot(df['length_seconds'], bins=25) # Shows extreme values\n",
    "\n",
    "# Some of the outliers in the high values may need to be removed, but let's try without doing so first."
   ]
  },
  {
   "cell_type": "markdown",
   "id": "87512002",
   "metadata": {},
   "source": [
    "##### While there are several observations exceeding 5M secs and a few exceeding 10M seconds, these usually concur with the duration_description observations. The above plot would not generate using a larger bin size, in attempt to display these more distinctly."
   ]
  },
  {
   "cell_type": "code",
   "execution_count": 12,
   "id": "bc4e99e5",
   "metadata": {},
   "outputs": [
    {
     "data": {
      "text/plain": [
       "3697.921809567859"
      ]
     },
     "execution_count": 12,
     "metadata": {},
     "output_type": "execute_result"
    }
   ],
   "source": [
    "# Check the mean\n",
    "df['length_seconds'].mean()"
   ]
  },
  {
   "cell_type": "code",
   "execution_count": 13,
   "id": "d8888b10",
   "metadata": {},
   "outputs": [
    {
     "data": {
      "text/plain": [
       "180.0"
      ]
     },
     "execution_count": 13,
     "metadata": {},
     "output_type": "execute_result"
    }
   ],
   "source": [
    "# Check the median\n",
    "df['length_seconds'].median()"
   ]
  },
  {
   "cell_type": "code",
   "execution_count": 14,
   "id": "1466fad4",
   "metadata": {},
   "outputs": [
    {
     "data": {
      "text/plain": [
       "10526400"
      ]
     },
     "execution_count": 14,
     "metadata": {},
     "output_type": "execute_result"
    }
   ],
   "source": [
    "# Check the max\n",
    "df['length_seconds'].max() "
   ]
  },
  {
   "cell_type": "markdown",
   "id": "a35f3c4e",
   "metadata": {},
   "source": [
    "### 3. Visual exploration & data prep"
   ]
  },
  {
   "cell_type": "code",
   "execution_count": 15,
   "id": "e65060e2",
   "metadata": {},
   "outputs": [
    {
     "data": {
      "image/png": "[encoded data removed]",
      "text/plain": [
       "<Figure size 432x288 with 1 Axes>"
      ]
     },
     "metadata": {
      "needs_background": "light"
     },
     "output_type": "display_data"
    }
   ],
   "source": [
    "# Create a scatterplot using matplotlib for another look at how the chosen variables plot against each other.\n",
    "\n",
    "df.plot(x= 'length_seconds', y= 'latitude', style='o') # The style option creates a scatterplot; without it, we only have lines.\n",
    "plt.title('Length of encounter, relative to distance from equator')  \n",
    "plt.xlabel('Seconds')  \n",
    "plt.ylabel('Latitude')  \n",
    "plt.show()"
   ]
  },
  {
   "cell_type": "markdown",
   "id": "e853f2e4",
   "metadata": {},
   "source": [
    "##### The majority of encounters of longer duration appear to have occurred around the middle of the Northern hemisphere, i.e. above the equator. The tick marks on the x-axis seem to reflect a multiplier of 10M."
   ]
  },
  {
   "cell_type": "markdown",
   "id": "7cebd4cd",
   "metadata": {},
   "source": [
    "Hypothesis: When viewing a larger spread of median length observations (i.e. around 180 seconds, or three minutes in duration), a significant percentage will be seen in the Southern hemisphere, while the vast majory will remain in the Northern hemisphere. "
   ]
  },
  {
   "cell_type": "code",
   "execution_count": 16,
   "id": "772b9561",
   "metadata": {},
   "outputs": [],
   "source": [
    "# Reshape the variables into NumPy arrays and put them into separate objects.\n",
    "\n",
    "X = df['length_seconds'].values.reshape(-1,1)\n",
    "y = df['latitude'].values.reshape(-1,1)"
   ]
  },
  {
   "cell_type": "code",
   "execution_count": 17,
   "id": "06e4a4cb",
   "metadata": {},
   "outputs": [
    {
     "data": {
      "text/plain": [
       "array([[     300],\n",
       "       [10526400],\n",
       "       [10526400],\n",
       "       ...,\n",
       "       [      60],\n",
       "       [       0],\n",
       "       [   10800]], dtype=int64)"
      ]
     },
     "execution_count": 17,
     "metadata": {},
     "output_type": "execute_result"
    }
   ],
   "source": [
    "X"
   ]
  },
  {
   "cell_type": "code",
   "execution_count": 18,
   "id": "a1574b38",
   "metadata": {},
   "outputs": [
    {
     "data": {
      "text/plain": [
       "array([[-38.627],\n",
       "       [ 35.468],\n",
       "       [ 36.853],\n",
       "       ...,\n",
       "       [ 46.228],\n",
       "       [ 41.75 ],\n",
       "       [ 48.208]])"
      ]
     },
     "execution_count": 18,
     "metadata": {},
     "output_type": "execute_result"
    }
   ],
   "source": [
    "y"
   ]
  },
  {
   "cell_type": "code",
   "execution_count": 19,
   "id": "b028b3d7",
   "metadata": {},
   "outputs": [],
   "source": [
    "# Split data into a training set and a test set.\n",
    "\n",
    "X_train, X_test, y_train, y_test = train_test_split(X, y, test_size=0.3, random_state=0)"
   ]
  },
  {
   "cell_type": "markdown",
   "id": "286a8b1d",
   "metadata": {},
   "source": [
    "### 4. Regression analysis"
   ]
  },
  {
   "cell_type": "code",
   "execution_count": 20,
   "id": "8a63c640",
   "metadata": {},
   "outputs": [],
   "source": [
    "# Create a regression object: This is the regression object, which will be fit onto the training set.\n",
    "regression = LinearRegression()"
   ]
  },
  {
   "cell_type": "code",
   "execution_count": 21,
   "id": "b3f3acb4",
   "metadata": {},
   "outputs": [
    {
     "data": {
      "text/plain": [
       "LinearRegression()"
      ]
     },
     "execution_count": 21,
     "metadata": {},
     "output_type": "execute_result"
    }
   ],
   "source": [
    "# Fit the regression object onto the training set\n",
    "regression.fit(X_train, y_train)"
   ]
  },
  {
   "cell_type": "code",
   "execution_count": 22,
   "id": "e6f9f384",
   "metadata": {},
   "outputs": [],
   "source": [
    "# Predict the values of y using X\n",
    "y_predicted = regression.predict(X_test)"
   ]
  },
  {
   "cell_type": "code",
   "execution_count": 23,
   "id": "5a0df120",
   "metadata": {},
   "outputs": [
    {
     "data": {
      "image/png": "[encoded data removed]",
      "text/plain": [
       "<Figure size 432x288 with 1 Axes>"
      ]
     },
     "metadata": {
      "needs_background": "light"
     },
     "output_type": "display_data"
    }
   ],
   "source": [
    "# Create a plot that shows the regression line from the model on the test set\n",
    "\n",
    "plot_test = plt\n",
    "plot_test.scatter(X_test, y_test, color='gray', s = 15)\n",
    "plot_test.plot(X_test, y_predicted, color='red', linewidth =3)\n",
    "plot_test.title('Length of encounter, relative to distance from equator (Test set)')\n",
    "plot_test.xlabel('Seconds')\n",
    "plot_test.ylabel('Latitude')\n",
    "plot_test.show()"
   ]
  },
  {
   "cell_type": "markdown",
   "id": "39676335",
   "metadata": {},
   "source": [
    "##### The line appears to concur with the previous interpretation, where the longest recorded duration events occur in the Northern hemisohere. Removing all observations exceeding 2M seconds may be a consideration. While these are noteworthy events, they are essentially outliers in terms of their duration."
   ]
  },
  {
   "cell_type": "code",
   "execution_count": 24,
   "id": "92f013ab",
   "metadata": {},
   "outputs": [],
   "source": [
    "# Create objects that contain the model summary statistics.\n",
    "\n",
    "rmse = mean_squared_error(y_test, y_predicted) # This is the mean squared error\n",
    "r2 = r2_score(y_test, y_predicted) # This is the R2 score. "
   ]
  },
  {
   "cell_type": "code",
   "execution_count": 25,
   "id": "b8f80723",
   "metadata": {},
   "outputs": [
    {
     "name": "stdout",
     "output_type": "stream",
     "text": [
      "Slope: [[-6.80167224e-07]]\n",
      "Mean squared error:  104.53728146780055\n",
      "R2 score:  -7.297695208530186e-05\n"
     ]
    }
   ],
   "source": [
    "# Print the model summary statistics. This is where you evaluate the performance of the model.\n",
    "\n",
    "print('Slope:' ,regression.coef_)\n",
    "print('Mean squared error: ', rmse)\n",
    "print('R2 score: ', r2)"
   ]
  },
  {
   "cell_type": "code",
   "execution_count": 26,
   "id": "a9571acd",
   "metadata": {},
   "outputs": [
    {
     "data": {
      "text/plain": [
       "array([[38.1656403 ],\n",
       "       [38.16584435],\n",
       "       [38.16596678],\n",
       "       ...,\n",
       "       [38.16613002],\n",
       "       [38.16621164],\n",
       "       [38.1656403 ]])"
      ]
     },
     "execution_count": 26,
     "metadata": {},
     "output_type": "execute_result"
    }
   ],
   "source": [
    "y_predicted"
   ]
  },
  {
   "cell_type": "code",
   "execution_count": 27,
   "id": "329d2d94",
   "metadata": {
    "scrolled": true
   },
   "outputs": [
    {
     "data": {
      "text/html": [
       "<div>\n",
       "<style scoped>\n",
       "    .dataframe tbody tr th:only-of-type {\n",
       "        vertical-align: middle;\n",
       "    }\n",
       "\n",
       "    .dataframe tbody tr th {\n",
       "        vertical-align: top;\n",
       "    }\n",
       "\n",
       "    .dataframe thead th {\n",
       "        text-align: right;\n",
       "    }\n",
       "</style>\n",
       "<table border=\"1\" class=\"dataframe\">\n",
       "  <thead>\n",
       "    <tr style=\"text-align: right;\">\n",
       "      <th></th>\n",
       "      <th>Actual</th>\n",
       "      <th>Predicted</th>\n",
       "    </tr>\n",
       "  </thead>\n",
       "  <tbody>\n",
       "    <tr>\n",
       "      <th>0</th>\n",
       "      <td>47.253</td>\n",
       "      <td>38.165640</td>\n",
       "    </tr>\n",
       "    <tr>\n",
       "      <th>1</th>\n",
       "      <td>49.250</td>\n",
       "      <td>38.165844</td>\n",
       "    </tr>\n",
       "    <tr>\n",
       "      <th>2</th>\n",
       "      <td>47.240</td>\n",
       "      <td>38.165967</td>\n",
       "    </tr>\n",
       "    <tr>\n",
       "      <th>3</th>\n",
       "      <td>32.329</td>\n",
       "      <td>38.166242</td>\n",
       "    </tr>\n",
       "    <tr>\n",
       "      <th>4</th>\n",
       "      <td>41.850</td>\n",
       "      <td>38.166171</td>\n",
       "    </tr>\n",
       "    <tr>\n",
       "      <th>5</th>\n",
       "      <td>26.358</td>\n",
       "      <td>38.161355</td>\n",
       "    </tr>\n",
       "    <tr>\n",
       "      <th>6</th>\n",
       "      <td>44.781</td>\n",
       "      <td>38.166239</td>\n",
       "    </tr>\n",
       "    <tr>\n",
       "      <th>7</th>\n",
       "      <td>-25.274</td>\n",
       "      <td>38.165028</td>\n",
       "    </tr>\n",
       "    <tr>\n",
       "      <th>8</th>\n",
       "      <td>41.584</td>\n",
       "      <td>38.166171</td>\n",
       "    </tr>\n",
       "    <tr>\n",
       "      <th>9</th>\n",
       "      <td>36.606</td>\n",
       "      <td>38.166048</td>\n",
       "    </tr>\n",
       "    <tr>\n",
       "      <th>10</th>\n",
       "      <td>38.970</td>\n",
       "      <td>38.166048</td>\n",
       "    </tr>\n",
       "    <tr>\n",
       "      <th>11</th>\n",
       "      <td>45.003</td>\n",
       "      <td>38.165436</td>\n",
       "    </tr>\n",
       "    <tr>\n",
       "      <th>12</th>\n",
       "      <td>36.825</td>\n",
       "      <td>38.166212</td>\n",
       "    </tr>\n",
       "    <tr>\n",
       "      <th>13</th>\n",
       "      <td>51.514</td>\n",
       "      <td>38.166048</td>\n",
       "    </tr>\n",
       "    <tr>\n",
       "      <th>14</th>\n",
       "      <td>47.156</td>\n",
       "      <td>38.166089</td>\n",
       "    </tr>\n",
       "    <tr>\n",
       "      <th>15</th>\n",
       "      <td>45.524</td>\n",
       "      <td>38.166130</td>\n",
       "    </tr>\n",
       "    <tr>\n",
       "      <th>16</th>\n",
       "      <td>41.320</td>\n",
       "      <td>38.166130</td>\n",
       "    </tr>\n",
       "    <tr>\n",
       "      <th>17</th>\n",
       "      <td>41.368</td>\n",
       "      <td>38.165028</td>\n",
       "    </tr>\n",
       "    <tr>\n",
       "      <th>18</th>\n",
       "      <td>36.256</td>\n",
       "      <td>38.165844</td>\n",
       "    </tr>\n",
       "    <tr>\n",
       "      <th>19</th>\n",
       "      <td>36.530</td>\n",
       "      <td>38.165436</td>\n",
       "    </tr>\n",
       "    <tr>\n",
       "      <th>20</th>\n",
       "      <td>34.269</td>\n",
       "      <td>38.166048</td>\n",
       "    </tr>\n",
       "    <tr>\n",
       "      <th>21</th>\n",
       "      <td>32.725</td>\n",
       "      <td>38.149112</td>\n",
       "    </tr>\n",
       "    <tr>\n",
       "      <th>22</th>\n",
       "      <td>36.328</td>\n",
       "      <td>38.166212</td>\n",
       "    </tr>\n",
       "    <tr>\n",
       "      <th>23</th>\n",
       "      <td>38.441</td>\n",
       "      <td>38.166232</td>\n",
       "    </tr>\n",
       "    <tr>\n",
       "      <th>24</th>\n",
       "      <td>34.121</td>\n",
       "      <td>38.166130</td>\n",
       "    </tr>\n",
       "    <tr>\n",
       "      <th>25</th>\n",
       "      <td>31.322</td>\n",
       "      <td>38.166130</td>\n",
       "    </tr>\n",
       "    <tr>\n",
       "      <th>26</th>\n",
       "      <td>45.520</td>\n",
       "      <td>38.166239</td>\n",
       "    </tr>\n",
       "    <tr>\n",
       "      <th>27</th>\n",
       "      <td>32.853</td>\n",
       "      <td>38.166130</td>\n",
       "    </tr>\n",
       "    <tr>\n",
       "      <th>28</th>\n",
       "      <td>42.271</td>\n",
       "      <td>38.166048</td>\n",
       "    </tr>\n",
       "    <tr>\n",
       "      <th>29</th>\n",
       "      <td>40.177</td>\n",
       "      <td>38.166250</td>\n",
       "    </tr>\n",
       "  </tbody>\n",
       "</table>\n",
       "</div>"
      ],
      "text/plain": [
       "    Actual  Predicted\n",
       "0   47.253  38.165640\n",
       "1   49.250  38.165844\n",
       "2   47.240  38.165967\n",
       "3   32.329  38.166242\n",
       "4   41.850  38.166171\n",
       "5   26.358  38.161355\n",
       "6   44.781  38.166239\n",
       "7  -25.274  38.165028\n",
       "8   41.584  38.166171\n",
       "9   36.606  38.166048\n",
       "10  38.970  38.166048\n",
       "11  45.003  38.165436\n",
       "12  36.825  38.166212\n",
       "13  51.514  38.166048\n",
       "14  47.156  38.166089\n",
       "15  45.524  38.166130\n",
       "16  41.320  38.166130\n",
       "17  41.368  38.165028\n",
       "18  36.256  38.165844\n",
       "19  36.530  38.165436\n",
       "20  34.269  38.166048\n",
       "21  32.725  38.149112\n",
       "22  36.328  38.166212\n",
       "23  38.441  38.166232\n",
       "24  34.121  38.166130\n",
       "25  31.322  38.166130\n",
       "26  45.520  38.166239\n",
       "27  32.853  38.166130\n",
       "28  42.271  38.166048\n",
       "29  40.177  38.166250"
      ]
     },
     "execution_count": 27,
     "metadata": {},
     "output_type": "execute_result"
    }
   ],
   "source": [
    "# Create a dataframe comparing the actual and predicted values of y.\n",
    "\n",
    "data = pd.DataFrame({'Actual': y_test.flatten(), 'Predicted': y_predicted.flatten()})\n",
    "data.head(30)"
   ]
  },
  {
   "cell_type": "markdown",
   "id": "8520921e",
   "metadata": {},
   "source": [
    "##### All values in the predicted array are nearly identical up to three decimal points, with a few variances. Only two displayed results from the test set are accurate within a single decimal point. The negative R2 score above would seem to indicate the test set is not a good fitting model."
   ]
  },
  {
   "cell_type": "markdown",
   "id": "4333e93c",
   "metadata": {},
   "source": [
    "#### Compare how the regression fits the training set"
   ]
  },
  {
   "cell_type": "code",
   "execution_count": 28,
   "id": "8120575d",
   "metadata": {},
   "outputs": [],
   "source": [
    "# Predict: This is predicting X_train!\n",
    "y_predicted_train = regression.predict(X_train)"
   ]
  },
  {
   "cell_type": "code",
   "execution_count": 29,
   "id": "b7470eb4",
   "metadata": {},
   "outputs": [],
   "source": [
    "rmse = mean_squared_error(y_train, y_predicted_train)\n",
    "r2 = r2_score(y_train, y_predicted_train)"
   ]
  },
  {
   "cell_type": "code",
   "execution_count": 30,
   "id": "81efd5fd",
   "metadata": {},
   "outputs": [
    {
     "name": "stdout",
     "output_type": "stream",
     "text": [
      "Slope: [[-6.80167224e-07]]\n",
      "Mean squared error:  108.44565049778018\n",
      "R2 score:  5.0487448730152096e-05\n"
     ]
    }
   ],
   "source": [
    "print('Slope:' ,regression.coef_)\n",
    "print('Mean squared error: ', rmse)\n",
    "print('R2 score: ', r2)"
   ]
  },
  {
   "cell_type": "markdown",
   "id": "e0072259",
   "metadata": {},
   "source": [
    "##### Notably higher R2 score for the training set."
   ]
  },
  {
   "cell_type": "code",
   "execution_count": 31,
   "id": "4d774406",
   "metadata": {},
   "outputs": [
    {
     "data": {
      "image/png": "[encoded data removed]",
      "text/plain": [
       "<Figure size 432x288 with 1 Axes>"
      ]
     },
     "metadata": {
      "needs_background": "light"
     },
     "output_type": "display_data"
    }
   ],
   "source": [
    "# Visualizing the training set results.\n",
    "\n",
    "plot_test = plt\n",
    "plot_test.scatter(X_train, y_train, color='green', s = 15)\n",
    "plot_test.plot(X_train, y_predicted_train, color='red', linewidth =3)\n",
    "plot_test.title('Length of encounter, relative to distance from equator (Training set)')\n",
    "plot_test.xlabel('Seconds')\n",
    "plot_test.ylabel('Latitude')\n",
    "plot_test.show()"
   ]
  },
  {
   "cell_type": "markdown",
   "id": "981bfceb",
   "metadata": {},
   "source": [
    "##### While the slope is identical and resulting plot appears similar, the scale of measurement in the y-axis is expanded, as seen in the example notebook as well."
   ]
  },
  {
   "cell_type": "markdown",
   "id": "4b396b21",
   "metadata": {},
   "source": [
    "### 5. Bonus: performance improvement after removing outliers"
   ]
  },
  {
   "cell_type": "code",
   "execution_count": 32,
   "id": "3cb06ecd",
   "metadata": {},
   "outputs": [],
   "source": [
    "# Clean extreme values from \"length_seconds\" variable\n",
    "df_test = df[df['length_seconds'] <=2000000] "
   ]
  },
  {
   "cell_type": "code",
   "execution_count": 33,
   "id": "974c9344",
   "metadata": {},
   "outputs": [
    {
     "data": {
      "image/png": "[encoded data removed]",
      "text/plain": [
       "<Figure size 432x288 with 1 Axes>"
      ]
     },
     "metadata": {
      "needs_background": "light"
     },
     "output_type": "display_data"
    }
   ],
   "source": [
    "# Try the scatterplot without outliers\n",
    "df_test.plot(x = 'length_seconds', y='latitude', style='o')  \n",
    "plt.title('Length of encounter, relative to distance from equator')  \n",
    "plt.xlabel('Seconds')  \n",
    "plt.ylabel('Latitude')  \n",
    "plt.show()"
   ]
  },
  {
   "cell_type": "markdown",
   "id": "96b2c67d",
   "metadata": {},
   "source": [
    "##### A slightly different spread is beginning to show here. The x-axis multipliers now appear to be 1M. Another consideration may be to remove observations less than 3 seconds, as those 0-2 seconds represent only 3.79% of the data."
   ]
  },
  {
   "cell_type": "code",
   "execution_count": 34,
   "id": "aaf89b60",
   "metadata": {},
   "outputs": [],
   "source": [
    "# Reshape again\n",
    "X_2 = df_test['length_seconds'].values.reshape(-1,1)\n",
    "y_2 = df_test['latitude'].values.reshape(-1,1)"
   ]
  },
  {
   "cell_type": "code",
   "execution_count": 35,
   "id": "391c3e86",
   "metadata": {},
   "outputs": [],
   "source": [
    "X_train_2, X_test_2, y_train_2, y_test_2 = train_test_split(X_2, y_2, test_size=0.3, random_state=0)"
   ]
  },
  {
   "cell_type": "code",
   "execution_count": 36,
   "id": "25b24c2b",
   "metadata": {},
   "outputs": [
    {
     "data": {
      "text/plain": [
       "LinearRegression()"
      ]
     },
     "execution_count": 36,
     "metadata": {},
     "output_type": "execute_result"
    }
   ],
   "source": [
    "# Run and fit the regression\n",
    "regression = LinearRegression()  \n",
    "regression.fit(X_train_2, y_train_2)"
   ]
  },
  {
   "cell_type": "code",
   "execution_count": 37,
   "id": "6b56b3b2",
   "metadata": {},
   "outputs": [],
   "source": [
    "# Predict\n",
    "y_predicted_2 = regression.predict(X_test_2)"
   ]
  },
  {
   "cell_type": "code",
   "execution_count": 38,
   "id": "9a19af7f",
   "metadata": {},
   "outputs": [],
   "source": [
    "rmse = mean_squared_error(y_test_2, y_predicted_2)\n",
    "r2 = r2_score(y_test_2, y_predicted_2)"
   ]
  },
  {
   "cell_type": "code",
   "execution_count": 39,
   "id": "f595799d",
   "metadata": {},
   "outputs": [
    {
     "name": "stdout",
     "output_type": "stream",
     "text": [
      "Slope: [[-2.72716011e-06]]\n",
      "Mean squared error:  105.25956063267195\n",
      "R2 score:  -0.000495765573125917\n"
     ]
    }
   ],
   "source": [
    "print('Slope:' ,regression.coef_)\n",
    "print('Mean squared error: ', rmse)\n",
    "print('R2 score: ', r2)"
   ]
  },
  {
   "cell_type": "code",
   "execution_count": 42,
   "id": "cde7b6ef",
   "metadata": {},
   "outputs": [
    {
     "data": {
      "image/png": "[encoded data removed]",
      "text/plain": [
       "<Figure size 432x288 with 1 Axes>"
      ]
     },
     "metadata": {
      "needs_background": "light"
     },
     "output_type": "display_data"
    }
   ],
   "source": [
    "# Visualizing the test set results\n",
    "plot_test = plt\n",
    "plot_test.scatter(X_test, y_test, color='gray', s = 15)\n",
    "plot_test.plot(X_train, regression.predict(X_train), color='red', linewidth =3)\n",
    "plot_test.title('Length of encounter, relative to distance from equator (Test set)')\n",
    "plot_test.xlabel('Seconds')\n",
    "plot_test.ylabel('Latitude')\n",
    "plot_test.show()"
   ]
  },
  {
   "cell_type": "markdown",
   "id": "a2a4b517",
   "metadata": {},
   "source": [
    "##### The new test set outliers are farther from the new regression line, which has a more pronounced slope compared to the original test plot. A model with better dimensional symmetry would be needed for a proper analysis. While there may still be potential biases, none are apparent to me at this stage."
   ]
  },
  {
   "cell_type": "code",
   "execution_count": 44,
   "id": "6cd1fe70",
   "metadata": {
    "scrolled": true
   },
   "outputs": [
    {
     "data": {
      "text/html": [
       "<div>\n",
       "<style scoped>\n",
       "    .dataframe tbody tr th:only-of-type {\n",
       "        vertical-align: middle;\n",
       "    }\n",
       "\n",
       "    .dataframe tbody tr th {\n",
       "        vertical-align: top;\n",
       "    }\n",
       "\n",
       "    .dataframe thead th {\n",
       "        text-align: right;\n",
       "    }\n",
       "</style>\n",
       "<table border=\"1\" class=\"dataframe\">\n",
       "  <thead>\n",
       "    <tr style=\"text-align: right;\">\n",
       "      <th></th>\n",
       "      <th>Actual</th>\n",
       "      <th>Predicted</th>\n",
       "    </tr>\n",
       "  </thead>\n",
       "  <tbody>\n",
       "    <tr>\n",
       "      <th>0</th>\n",
       "      <td>38.108</td>\n",
       "      <td>38.102501</td>\n",
       "    </tr>\n",
       "    <tr>\n",
       "      <th>1</th>\n",
       "      <td>32.083</td>\n",
       "      <td>38.102583</td>\n",
       "    </tr>\n",
       "    <tr>\n",
       "      <th>2</th>\n",
       "      <td>32.461</td>\n",
       "      <td>38.092779</td>\n",
       "    </tr>\n",
       "    <tr>\n",
       "      <th>3</th>\n",
       "      <td>32.838</td>\n",
       "      <td>38.102106</td>\n",
       "    </tr>\n",
       "    <tr>\n",
       "      <th>4</th>\n",
       "      <td>38.357</td>\n",
       "      <td>38.102515</td>\n",
       "    </tr>\n",
       "    <tr>\n",
       "      <th>5</th>\n",
       "      <td>45.446</td>\n",
       "      <td>38.100960</td>\n",
       "    </tr>\n",
       "    <tr>\n",
       "      <th>6</th>\n",
       "      <td>59.329</td>\n",
       "      <td>38.101451</td>\n",
       "    </tr>\n",
       "    <tr>\n",
       "      <th>7</th>\n",
       "      <td>36.073</td>\n",
       "      <td>38.102591</td>\n",
       "    </tr>\n",
       "    <tr>\n",
       "      <th>8</th>\n",
       "      <td>45.133</td>\n",
       "      <td>38.102569</td>\n",
       "    </tr>\n",
       "    <tr>\n",
       "      <th>9</th>\n",
       "      <td>36.187</td>\n",
       "      <td>38.102569</td>\n",
       "    </tr>\n",
       "    <tr>\n",
       "      <th>10</th>\n",
       "      <td>41.501</td>\n",
       "      <td>38.101779</td>\n",
       "    </tr>\n",
       "    <tr>\n",
       "      <th>11</th>\n",
       "      <td>35.084</td>\n",
       "      <td>38.097688</td>\n",
       "    </tr>\n",
       "    <tr>\n",
       "      <th>12</th>\n",
       "      <td>37.567</td>\n",
       "      <td>38.102591</td>\n",
       "    </tr>\n",
       "    <tr>\n",
       "      <th>13</th>\n",
       "      <td>45.524</td>\n",
       "      <td>38.102433</td>\n",
       "    </tr>\n",
       "    <tr>\n",
       "      <th>14</th>\n",
       "      <td>37.793</td>\n",
       "      <td>38.102580</td>\n",
       "    </tr>\n",
       "    <tr>\n",
       "      <th>15</th>\n",
       "      <td>37.987</td>\n",
       "      <td>38.098997</td>\n",
       "    </tr>\n",
       "    <tr>\n",
       "      <th>16</th>\n",
       "      <td>36.158</td>\n",
       "      <td>38.102351</td>\n",
       "    </tr>\n",
       "    <tr>\n",
       "      <th>17</th>\n",
       "      <td>38.890</td>\n",
       "      <td>38.101615</td>\n",
       "    </tr>\n",
       "    <tr>\n",
       "      <th>18</th>\n",
       "      <td>29.883</td>\n",
       "      <td>38.102106</td>\n",
       "    </tr>\n",
       "    <tr>\n",
       "      <th>19</th>\n",
       "      <td>33.181</td>\n",
       "      <td>38.087870</td>\n",
       "    </tr>\n",
       "    <tr>\n",
       "      <th>20</th>\n",
       "      <td>34.134</td>\n",
       "      <td>38.100960</td>\n",
       "    </tr>\n",
       "    <tr>\n",
       "      <th>21</th>\n",
       "      <td>32.341</td>\n",
       "      <td>38.101779</td>\n",
       "    </tr>\n",
       "    <tr>\n",
       "      <th>22</th>\n",
       "      <td>42.718</td>\n",
       "      <td>38.102106</td>\n",
       "    </tr>\n",
       "    <tr>\n",
       "      <th>23</th>\n",
       "      <td>44.052</td>\n",
       "      <td>38.102542</td>\n",
       "    </tr>\n",
       "    <tr>\n",
       "      <th>24</th>\n",
       "      <td>34.730</td>\n",
       "      <td>38.101942</td>\n",
       "    </tr>\n",
       "    <tr>\n",
       "      <th>25</th>\n",
       "      <td>44.300</td>\n",
       "      <td>38.100142</td>\n",
       "    </tr>\n",
       "    <tr>\n",
       "      <th>26</th>\n",
       "      <td>40.917</td>\n",
       "      <td>38.102569</td>\n",
       "    </tr>\n",
       "    <tr>\n",
       "      <th>27</th>\n",
       "      <td>33.835</td>\n",
       "      <td>38.100960</td>\n",
       "    </tr>\n",
       "    <tr>\n",
       "      <th>28</th>\n",
       "      <td>38.811</td>\n",
       "      <td>38.102515</td>\n",
       "    </tr>\n",
       "    <tr>\n",
       "      <th>29</th>\n",
       "      <td>45.151</td>\n",
       "      <td>38.102583</td>\n",
       "    </tr>\n",
       "  </tbody>\n",
       "</table>\n",
       "</div>"
      ],
      "text/plain": [
       "    Actual  Predicted\n",
       "0   38.108  38.102501\n",
       "1   32.083  38.102583\n",
       "2   32.461  38.092779\n",
       "3   32.838  38.102106\n",
       "4   38.357  38.102515\n",
       "5   45.446  38.100960\n",
       "6   59.329  38.101451\n",
       "7   36.073  38.102591\n",
       "8   45.133  38.102569\n",
       "9   36.187  38.102569\n",
       "10  41.501  38.101779\n",
       "11  35.084  38.097688\n",
       "12  37.567  38.102591\n",
       "13  45.524  38.102433\n",
       "14  37.793  38.102580\n",
       "15  37.987  38.098997\n",
       "16  36.158  38.102351\n",
       "17  38.890  38.101615\n",
       "18  29.883  38.102106\n",
       "19  33.181  38.087870\n",
       "20  34.134  38.100960\n",
       "21  32.341  38.101779\n",
       "22  42.718  38.102106\n",
       "23  44.052  38.102542\n",
       "24  34.730  38.101942\n",
       "25  44.300  38.100142\n",
       "26  40.917  38.102569\n",
       "27  33.835  38.100960\n",
       "28  38.811  38.102515\n",
       "29  45.151  38.102583"
      ]
     },
     "execution_count": 44,
     "metadata": {},
     "output_type": "execute_result"
    }
   ],
   "source": [
    "data = pd.DataFrame({'Actual': y_test_2.flatten(), 'Predicted': y_predicted_2.flatten()})\n",
    "data.head(30)"
   ]
  },
  {
   "cell_type": "code",
   "execution_count": 45,
   "id": "18caf257",
   "metadata": {},
   "outputs": [],
   "source": [
    "# export current dataframe to Prepared Data\n",
    "df.to_csv(os.path.join(path, '02 Data Sets', 'Prepared Data', 'ufo_sighting_data_regressed.csv')) "
   ]
  },
  {
   "cell_type": "code",
   "execution_count": null,
   "id": "63466011",
   "metadata": {},
   "outputs": [],
   "source": []
  }
 ],
 "metadata": {
  "kernelspec": {
   "display_name": "Python 3 (ipykernel)",
   "language": "python",
   "name": "python3"
  },
  "language_info": {
   "codemirror_mode": {
    "name": "ipython",
    "version": 3
   },
   "file_extension": ".py",
   "mimetype": "text/x-python",
   "name": "python",
   "nbconvert_exporter": "python",
   "pygments_lexer": "ipython3",
   "version": "3.9.7"
  }
 },
 "nbformat": 4,
 "nbformat_minor": 5
}
