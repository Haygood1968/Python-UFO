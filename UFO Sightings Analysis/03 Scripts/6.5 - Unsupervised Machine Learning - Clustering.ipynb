{
 "cells": [
  {
   "cell_type": "markdown",
   "id": "2f73207e",
   "metadata": {},
   "source": [
    "### Script contents:\n",
    "\n",
    "#### 1. Importing libraries and data\n",
    "#### 2. Data cleaning\n",
    "#### 3. Elbow technique\n",
    "#### 4. k-means clustering"
   ]
  },
  {
   "cell_type": "markdown",
   "id": "7171c648",
   "metadata": {},
   "source": [
    "### 1. Importing libraries and data"
   ]
  },
  {
   "cell_type": "code",
   "execution_count": 1,
   "id": "14b33379",
   "metadata": {},
   "outputs": [],
   "source": [
    "import pandas as pd\n",
    "import numpy as np\n",
    "import seaborn as sns\n",
    "import matplotlib\n",
    "import matplotlib.pyplot as plt\n",
    "import os\n",
    "import sklearn\n",
    "from sklearn.cluster import KMeans # Here is where you import the k-means algorithm from scikit-learn.\n",
    "import pylab as pl # PyLab is a convenience module that bulk imports matplotlib."
   ]
  },
  {
   "cell_type": "code",
   "execution_count": 2,
   "id": "9bd4a49e",
   "metadata": {},
   "outputs": [],
   "source": [
    "# prompt matplotlib visuals to appear in notebook \n",
    "%matplotlib inline"
   ]
  },
  {
   "cell_type": "code",
   "execution_count": 3,
   "id": "b7534b7b",
   "metadata": {},
   "outputs": [],
   "source": [
    "# Define path\n",
    "path = r'C:\\Users\\Jay\\Documents\\UFO Sightings Analysis'"
   ]
  },
  {
   "cell_type": "code",
   "execution_count": 4,
   "id": "ed697859",
   "metadata": {},
   "outputs": [],
   "source": [
    "# Import most recent data set\n",
    "df = pd.read_csv(os.path.join(path, '02 Data Sets', 'Prepared Data', 'ufo_sighting_data_regressed.csv'))"
   ]
  },
  {
   "cell_type": "code",
   "execution_count": 5,
   "id": "a1f8dce8",
   "metadata": {},
   "outputs": [
    {
     "data": {
      "text/plain": [
       "(79997, 12)"
      ]
     },
     "execution_count": 5,
     "metadata": {},
     "output_type": "execute_result"
    }
   ],
   "source": [
    "df.shape"
   ]
  },
  {
   "cell_type": "code",
   "execution_count": 6,
   "id": "66e763a8",
   "metadata": {},
   "outputs": [
    {
     "data": {
      "text/html": [
       "<div>\n",
       "<style scoped>\n",
       "    .dataframe tbody tr th:only-of-type {\n",
       "        vertical-align: middle;\n",
       "    }\n",
       "\n",
       "    .dataframe tbody tr th {\n",
       "        vertical-align: top;\n",
       "    }\n",
       "\n",
       "    .dataframe thead th {\n",
       "        text-align: right;\n",
       "    }\n",
       "</style>\n",
       "<table border=\"1\" class=\"dataframe\">\n",
       "  <thead>\n",
       "    <tr style=\"text-align: right;\">\n",
       "      <th></th>\n",
       "      <th>Unnamed: 0</th>\n",
       "      <th>Date_time</th>\n",
       "      <th>city</th>\n",
       "      <th>state/province</th>\n",
       "      <th>country</th>\n",
       "      <th>UFO_shape</th>\n",
       "      <th>length_seconds</th>\n",
       "      <th>duration_description</th>\n",
       "      <th>description</th>\n",
       "      <th>date_documented</th>\n",
       "      <th>latitude</th>\n",
       "      <th>longitude</th>\n",
       "    </tr>\n",
       "  </thead>\n",
       "  <tbody>\n",
       "    <tr>\n",
       "      <th>0</th>\n",
       "      <td>0</td>\n",
       "      <td>5/8/2014 18:45</td>\n",
       "      <td>inverloch</td>\n",
       "      <td>none</td>\n",
       "      <td>Australia</td>\n",
       "      <td>light</td>\n",
       "      <td>300</td>\n",
       "      <td>5 minutes</td>\n",
       "      <td>Bright orange light travelling above inverloch...</td>\n",
       "      <td>5/8/2014</td>\n",
       "      <td>-38.627</td>\n",
       "      <td>145.723</td>\n",
       "    </tr>\n",
       "    <tr>\n",
       "      <th>1</th>\n",
       "      <td>1</td>\n",
       "      <td>10/7/2013 20:00</td>\n",
       "      <td>oklahoma</td>\n",
       "      <td>OK</td>\n",
       "      <td>United States</td>\n",
       "      <td>circle</td>\n",
       "      <td>10526400</td>\n",
       "      <td>4 months</td>\n",
       "      <td>Bright flying orb.</td>\n",
       "      <td>10/14/2013</td>\n",
       "      <td>35.468</td>\n",
       "      <td>-97.516</td>\n",
       "    </tr>\n",
       "    <tr>\n",
       "      <th>2</th>\n",
       "      <td>2</td>\n",
       "      <td>8/3/2008 21:00</td>\n",
       "      <td>virginia beach</td>\n",
       "      <td>VA</td>\n",
       "      <td>United States</td>\n",
       "      <td>fireball</td>\n",
       "      <td>10526400</td>\n",
       "      <td>4 months</td>\n",
       "      <td>this object was very high up and emmited no so...</td>\n",
       "      <td>8/12/2008</td>\n",
       "      <td>36.853</td>\n",
       "      <td>-75.978</td>\n",
       "    </tr>\n",
       "    <tr>\n",
       "      <th>3</th>\n",
       "      <td>3</td>\n",
       "      <td>3/1/1994 1:00</td>\n",
       "      <td>menifee</td>\n",
       "      <td>CA</td>\n",
       "      <td>United States</td>\n",
       "      <td>unknown</td>\n",
       "      <td>10526400</td>\n",
       "      <td>4 months</td>\n",
       "      <td>Sun City / Menifee UFO sightings in 1994</td>\n",
       "      <td>2/22/2005</td>\n",
       "      <td>33.728</td>\n",
       "      <td>-117.146</td>\n",
       "    </tr>\n",
       "    <tr>\n",
       "      <th>4</th>\n",
       "      <td>4</td>\n",
       "      <td>1/1/1977 2:30</td>\n",
       "      <td>new canaan</td>\n",
       "      <td>CT</td>\n",
       "      <td>United States</td>\n",
       "      <td>unknown</td>\n",
       "      <td>9468000</td>\n",
       "      <td>2-3 years</td>\n",
       "      <td>possible abductions when I was a kid living in...</td>\n",
       "      <td>11/19/1998</td>\n",
       "      <td>41.147</td>\n",
       "      <td>-73.495</td>\n",
       "    </tr>\n",
       "  </tbody>\n",
       "</table>\n",
       "</div>"
      ],
      "text/plain": [
       "   Unnamed: 0        Date_time            city state/province        country  \\\n",
       "0           0   5/8/2014 18:45      inverloch            none      Australia   \n",
       "1           1  10/7/2013 20:00        oklahoma             OK  United States   \n",
       "2           2   8/3/2008 21:00  virginia beach             VA  United States   \n",
       "3           3    3/1/1994 1:00         menifee             CA  United States   \n",
       "4           4    1/1/1977 2:30      new canaan             CT  United States   \n",
       "\n",
       "  UFO_shape  length_seconds duration_description  \\\n",
       "0     light             300            5 minutes   \n",
       "1    circle        10526400             4 months   \n",
       "2  fireball        10526400             4 months   \n",
       "3   unknown        10526400             4 months   \n",
       "4   unknown         9468000            2-3 years   \n",
       "\n",
       "                                         description date_documented  \\\n",
       "0  Bright orange light travelling above inverloch...        5/8/2014   \n",
       "1                                 Bright flying orb.      10/14/2013   \n",
       "2  this object was very high up and emmited no so...       8/12/2008   \n",
       "3           Sun City / Menifee UFO sightings in 1994       2/22/2005   \n",
       "4  possible abductions when I was a kid living in...      11/19/1998   \n",
       "\n",
       "   latitude  longitude  \n",
       "0   -38.627    145.723  \n",
       "1    35.468    -97.516  \n",
       "2    36.853    -75.978  \n",
       "3    33.728   -117.146  \n",
       "4    41.147    -73.495  "
      ]
     },
     "execution_count": 6,
     "metadata": {},
     "output_type": "execute_result"
    }
   ],
   "source": [
    "df.head()"
   ]
  },
  {
   "cell_type": "markdown",
   "id": "7a3a1136",
   "metadata": {},
   "source": [
    "### 2. Data cleaning"
   ]
  },
  {
   "cell_type": "code",
   "execution_count": 7,
   "id": "a8686437",
   "metadata": {},
   "outputs": [
    {
     "data": {
      "text/plain": [
       "Index(['Unnamed: 0', 'Date_time', 'city', 'state/province', 'country',\n",
       "       'UFO_shape', 'length_seconds', 'duration_description', 'description',\n",
       "       'date_documented', 'latitude', 'longitude'],\n",
       "      dtype='object')"
      ]
     },
     "execution_count": 7,
     "metadata": {},
     "output_type": "execute_result"
    }
   ],
   "source": [
    "df.columns"
   ]
  },
  {
   "cell_type": "code",
   "execution_count": 8,
   "id": "3e5f7550",
   "metadata": {},
   "outputs": [],
   "source": [
    "# Remove ambiguous number column as in Exercise 6.3\n",
    "del df['Unnamed: 0']"
   ]
  },
  {
   "cell_type": "code",
   "execution_count": 9,
   "id": "4f2b8bc9",
   "metadata": {},
   "outputs": [
    {
     "data": {
      "text/plain": [
       "(79997, 11)"
      ]
     },
     "execution_count": 9,
     "metadata": {},
     "output_type": "execute_result"
    }
   ],
   "source": [
    "df.shape"
   ]
  },
  {
   "cell_type": "code",
   "execution_count": 11,
   "id": "661064bf",
   "metadata": {},
   "outputs": [
    {
     "data": {
      "text/plain": [
       "3697.921809567859"
      ]
     },
     "execution_count": 11,
     "metadata": {},
     "output_type": "execute_result"
    }
   ],
   "source": [
    "# Check the mean, median, min & max\n",
    "df['length_seconds'].mean()"
   ]
  },
  {
   "cell_type": "code",
   "execution_count": 12,
   "id": "17aa3719",
   "metadata": {},
   "outputs": [
    {
     "data": {
      "text/plain": [
       "180.0"
      ]
     },
     "execution_count": 12,
     "metadata": {},
     "output_type": "execute_result"
    }
   ],
   "source": [
    "df['length_seconds'].median()"
   ]
  },
  {
   "cell_type": "code",
   "execution_count": 13,
   "id": "f9fe58bb",
   "metadata": {},
   "outputs": [
    {
     "data": {
      "text/plain": [
       "0"
      ]
     },
     "execution_count": 13,
     "metadata": {},
     "output_type": "execute_result"
    }
   ],
   "source": [
    "df['length_seconds'].min()"
   ]
  },
  {
   "cell_type": "code",
   "execution_count": 14,
   "id": "2daca91d",
   "metadata": {},
   "outputs": [
    {
     "data": {
      "text/plain": [
       "10526400"
      ]
     },
     "execution_count": 14,
     "metadata": {},
     "output_type": "execute_result"
    }
   ],
   "source": [
    "df['length_seconds'].max()"
   ]
  },
  {
   "cell_type": "code",
   "execution_count": 24,
   "id": "b204ea73",
   "metadata": {},
   "outputs": [],
   "source": [
    "# Clean extreme high & low values from \"length_seconds\" variable\n",
    "df_1 = df[df['length_seconds'] <=2000000] "
   ]
  },
  {
   "cell_type": "code",
   "execution_count": 25,
   "id": "557b0115",
   "metadata": {},
   "outputs": [
    {
     "name": "stderr",
     "output_type": "stream",
     "text": [
      "C:\\Users\\Jay\\AppData\\Local\\Temp/ipykernel_14500/2760853067.py:1: UserWarning: Boolean Series key will be reindexed to match DataFrame index.\n",
      "  df_2 = df_1[df['length_seconds'] >2]\n"
     ]
    }
   ],
   "source": [
    "df_2 = df_1[df['length_seconds'] >2] "
   ]
  },
  {
   "cell_type": "code",
   "execution_count": 26,
   "id": "36f4f84f",
   "metadata": {},
   "outputs": [
    {
     "data": {
      "text/plain": [
       "3"
      ]
     },
     "execution_count": 26,
     "metadata": {},
     "output_type": "execute_result"
    }
   ],
   "source": [
    "df_2['length_seconds'].min()"
   ]
  },
  {
   "cell_type": "code",
   "execution_count": 27,
   "id": "9d4015f3",
   "metadata": {},
   "outputs": [
    {
     "data": {
      "text/plain": [
       "1814400"
      ]
     },
     "execution_count": 27,
     "metadata": {},
     "output_type": "execute_result"
    }
   ],
   "source": [
    "df_2['length_seconds'].max()"
   ]
  },
  {
   "cell_type": "code",
   "execution_count": 29,
   "id": "149774f7",
   "metadata": {},
   "outputs": [
    {
     "data": {
      "text/plain": [
       "1656.7950424395253"
      ]
     },
     "execution_count": 29,
     "metadata": {},
     "output_type": "execute_result"
    }
   ],
   "source": [
    "df_2['length_seconds'].mean()"
   ]
  },
  {
   "cell_type": "code",
   "execution_count": 30,
   "id": "255251a9",
   "metadata": {},
   "outputs": [
    {
     "data": {
      "text/plain": [
       "180.0"
      ]
     },
     "execution_count": 30,
     "metadata": {},
     "output_type": "execute_result"
    }
   ],
   "source": [
    "df_2['length_seconds'].median()"
   ]
  },
  {
   "cell_type": "code",
   "execution_count": 31,
   "id": "3fd7ca59",
   "metadata": {},
   "outputs": [
    {
     "data": {
      "text/plain": [
       "(76933, 11)"
      ]
     },
     "execution_count": 31,
     "metadata": {},
     "output_type": "execute_result"
    }
   ],
   "source": [
    "df_2.shape"
   ]
  },
  {
   "cell_type": "code",
   "execution_count": 32,
   "id": "e428470b",
   "metadata": {},
   "outputs": [
    {
     "data": {
      "text/html": [
       "<div>\n",
       "<style scoped>\n",
       "    .dataframe tbody tr th:only-of-type {\n",
       "        vertical-align: middle;\n",
       "    }\n",
       "\n",
       "    .dataframe tbody tr th {\n",
       "        vertical-align: top;\n",
       "    }\n",
       "\n",
       "    .dataframe thead th {\n",
       "        text-align: right;\n",
       "    }\n",
       "</style>\n",
       "<table border=\"1\" class=\"dataframe\">\n",
       "  <thead>\n",
       "    <tr style=\"text-align: right;\">\n",
       "      <th></th>\n",
       "      <th>length_seconds</th>\n",
       "      <th>latitude</th>\n",
       "      <th>longitude</th>\n",
       "    </tr>\n",
       "  </thead>\n",
       "  <tbody>\n",
       "    <tr>\n",
       "      <th>0</th>\n",
       "      <td>300</td>\n",
       "      <td>-38.627</td>\n",
       "      <td>145.723</td>\n",
       "    </tr>\n",
       "    <tr>\n",
       "      <th>11</th>\n",
       "      <td>40</td>\n",
       "      <td>53.317</td>\n",
       "      <td>-3.100</td>\n",
       "    </tr>\n",
       "    <tr>\n",
       "      <th>19</th>\n",
       "      <td>240</td>\n",
       "      <td>43.225</td>\n",
       "      <td>-79.980</td>\n",
       "    </tr>\n",
       "    <tr>\n",
       "      <th>30</th>\n",
       "      <td>1814400</td>\n",
       "      <td>40.637</td>\n",
       "      <td>-74.910</td>\n",
       "    </tr>\n",
       "    <tr>\n",
       "      <th>31</th>\n",
       "      <td>1814400</td>\n",
       "      <td>41.486</td>\n",
       "      <td>-73.051</td>\n",
       "    </tr>\n",
       "  </tbody>\n",
       "</table>\n",
       "</div>"
      ],
      "text/plain": [
       "    length_seconds  latitude  longitude\n",
       "0              300   -38.627    145.723\n",
       "11              40    53.317     -3.100\n",
       "19             240    43.225    -79.980\n",
       "30         1814400    40.637    -74.910\n",
       "31         1814400    41.486    -73.051"
      ]
     },
     "execution_count": 32,
     "metadata": {},
     "output_type": "execute_result"
    }
   ],
   "source": [
    "# Create data frame with only numerical variables, for use with k-means algorithm\n",
    "df_k = df_2[['length_seconds', 'latitude', 'longitude']]\n",
    "df_k.head()"
   ]
  },
  {
   "cell_type": "markdown",
   "id": "29802bd7",
   "metadata": {},
   "source": [
    "### 3. Elbow technique"
   ]
  },
  {
   "cell_type": "code",
   "execution_count": 33,
   "id": "77aa76f0",
   "metadata": {},
   "outputs": [],
   "source": [
    "num_cl = range(1, 10) # Defines the range of potential clusters in the data.\n",
    "kmeans = [KMeans(n_clusters=i) for i in num_cl] # Defines k-means clusters in the range assigned above."
   ]
  },
  {
   "cell_type": "code",
   "execution_count": 35,
   "id": "f741f4b8",
   "metadata": {},
   "outputs": [
    {
     "data": {
      "text/plain": [
       "[-41594492388733.234,\n",
       " -14136397800163.258,\n",
       " -4742882902371.685,\n",
       " -2921136619905.106,\n",
       " -1734548927021.827,\n",
       " -996197081420.4984,\n",
       " -669274951208.6703,\n",
       " -417231212767.9581,\n",
       " -303792517295.31946]"
      ]
     },
     "execution_count": 35,
     "metadata": {},
     "output_type": "execute_result"
    }
   ],
   "source": [
    "score = [kmeans[i].fit(df_k).score(df_k) for i in range(len(kmeans))] # Creates a score that represents \n",
    "# a rate of variation for the given cluster option.\n",
    "\n",
    "score"
   ]
  },
  {
   "cell_type": "code",
   "execution_count": 36,
   "id": "987fa506",
   "metadata": {},
   "outputs": [
    {
     "data": {
      "image/png": "[encoded data removed]",
      "text/plain": [
       "<Figure size 432x288 with 1 Axes>"
      ]
     },
     "metadata": {
      "needs_background": "light"
     },
     "output_type": "display_data"
    }
   ],
   "source": [
    "# Plot the elbow curve using PyLab.\n",
    "pl.plot(num_cl,score)\n",
    "pl.xlabel('Number of Clusters')\n",
    "pl.ylabel('Score')\n",
    "pl.title('Elbow Curve')\n",
    "pl.show()"
   ]
  },
  {
   "cell_type": "markdown",
   "id": "75f8069e",
   "metadata": {},
   "source": [
    "##### Appearing identical to the example notebook, we see a jump from 2 to 3 on the x-axis, then the curve straightens out. This indicates the optimal count for clusters is three."
   ]
  },
  {
   "cell_type": "markdown",
   "id": "3d2a3053",
   "metadata": {},
   "source": [
    "### 4. k-means clustering"
   ]
  },
  {
   "cell_type": "code",
   "execution_count": 37,
   "id": "8628431c",
   "metadata": {},
   "outputs": [],
   "source": [
    "# Create the k-means object\n",
    "kmeans = KMeans(n_clusters = 3, n_jobs = -1) "
   ]
  },
  {
   "cell_type": "code",
   "execution_count": 39,
   "id": "78a43f24",
   "metadata": {},
   "outputs": [
    {
     "name": "stderr",
     "output_type": "stream",
     "text": [
      "C:\\Users\\Jay\\anaconda3\\lib\\site-packages\\sklearn\\cluster\\_kmeans.py:792: FutureWarning: 'n_jobs' was deprecated in version 0.23 and will be removed in 1.0 (renaming of 0.25).\n",
      "  warnings.warn(\"'n_jobs' was deprecated in version 0.23 and will be\"\n"
     ]
    },
    {
     "data": {
      "text/plain": [
       "KMeans(n_clusters=3, n_jobs=-1)"
      ]
     },
     "execution_count": 39,
     "metadata": {},
     "output_type": "execute_result"
    }
   ],
   "source": [
    "# Fit the k-means object to the data\n",
    "kmeans.fit(df_k)"
   ]
  },
  {
   "cell_type": "code",
   "execution_count": 41,
   "id": "b05d8927",
   "metadata": {},
   "outputs": [
    {
     "name": "stderr",
     "output_type": "stream",
     "text": [
      "C:\\Users\\Jay\\anaconda3\\lib\\site-packages\\sklearn\\cluster\\_kmeans.py:792: FutureWarning: 'n_jobs' was deprecated in version 0.23 and will be removed in 1.0 (renaming of 0.25).\n",
      "  warnings.warn(\"'n_jobs' was deprecated in version 0.23 and will be\"\n",
      "C:\\Users\\Jay\\AppData\\Local\\Temp/ipykernel_14500/1531503818.py:1: SettingWithCopyWarning: \n",
      "A value is trying to be set on a copy of a slice from a DataFrame.\n",
      "Try using .loc[row_indexer,col_indexer] = value instead\n",
      "\n",
      "See the caveats in the documentation: https://pandas.pydata.org/pandas-docs/stable/user_guide/indexing.html#returning-a-view-versus-a-copy\n",
      "  df_k['clusters'] = kmeans.fit_predict(df_k)\n"
     ]
    }
   ],
   "source": [
    "df_k['clusters'] = kmeans.fit_predict(df_k)"
   ]
  },
  {
   "cell_type": "code",
   "execution_count": 42,
   "id": "c0d4e9ad",
   "metadata": {},
   "outputs": [
    {
     "data": {
      "text/html": [
       "<div>\n",
       "<style scoped>\n",
       "    .dataframe tbody tr th:only-of-type {\n",
       "        vertical-align: middle;\n",
       "    }\n",
       "\n",
       "    .dataframe tbody tr th {\n",
       "        vertical-align: top;\n",
       "    }\n",
       "\n",
       "    .dataframe thead th {\n",
       "        text-align: right;\n",
       "    }\n",
       "</style>\n",
       "<table border=\"1\" class=\"dataframe\">\n",
       "  <thead>\n",
       "    <tr style=\"text-align: right;\">\n",
       "      <th></th>\n",
       "      <th>length_seconds</th>\n",
       "      <th>latitude</th>\n",
       "      <th>longitude</th>\n",
       "      <th>clusters</th>\n",
       "    </tr>\n",
       "  </thead>\n",
       "  <tbody>\n",
       "    <tr>\n",
       "      <th>0</th>\n",
       "      <td>300</td>\n",
       "      <td>-38.627</td>\n",
       "      <td>145.723</td>\n",
       "      <td>0</td>\n",
       "    </tr>\n",
       "    <tr>\n",
       "      <th>11</th>\n",
       "      <td>40</td>\n",
       "      <td>53.317</td>\n",
       "      <td>-3.100</td>\n",
       "      <td>0</td>\n",
       "    </tr>\n",
       "    <tr>\n",
       "      <th>19</th>\n",
       "      <td>240</td>\n",
       "      <td>43.225</td>\n",
       "      <td>-79.980</td>\n",
       "      <td>0</td>\n",
       "    </tr>\n",
       "    <tr>\n",
       "      <th>30</th>\n",
       "      <td>1814400</td>\n",
       "      <td>40.637</td>\n",
       "      <td>-74.910</td>\n",
       "      <td>1</td>\n",
       "    </tr>\n",
       "    <tr>\n",
       "      <th>31</th>\n",
       "      <td>1814400</td>\n",
       "      <td>41.486</td>\n",
       "      <td>-73.051</td>\n",
       "      <td>1</td>\n",
       "    </tr>\n",
       "  </tbody>\n",
       "</table>\n",
       "</div>"
      ],
      "text/plain": [
       "    length_seconds  latitude  longitude  clusters\n",
       "0              300   -38.627    145.723         0\n",
       "11              40    53.317     -3.100         0\n",
       "19             240    43.225    -79.980         0\n",
       "30         1814400    40.637    -74.910         1\n",
       "31         1814400    41.486    -73.051         1"
      ]
     },
     "execution_count": 42,
     "metadata": {},
     "output_type": "execute_result"
    }
   ],
   "source": [
    "df_k.head()"
   ]
  },
  {
   "cell_type": "code",
   "execution_count": 43,
   "id": "0a594bd2",
   "metadata": {},
   "outputs": [
    {
     "data": {
      "text/plain": [
       "0    76816\n",
       "2      104\n",
       "1       13\n",
       "Name: clusters, dtype: int64"
      ]
     },
     "execution_count": 43,
     "metadata": {},
     "output_type": "execute_result"
    }
   ],
   "source": [
    "df_k['clusters'].value_counts()"
   ]
  },
  {
   "cell_type": "code",
   "execution_count": 44,
   "id": "889075fe",
   "metadata": {},
   "outputs": [
    {
     "data": {
      "image/png": "[encoded data removed]",
      "text/plain": [
       "<Figure size 864x576 with 1 Axes>"
      ]
     },
     "metadata": {
      "needs_background": "light"
     },
     "output_type": "display_data"
    }
   ],
   "source": [
    "# Plot the clusters for the \"length_seconds\" and \"latitude\" variables.\n",
    "\n",
    "plt.figure(figsize=(12,8))\n",
    "ax = sns.scatterplot(x=df_k['length_seconds'], y=df_k['latitude'], hue=kmeans.labels_, s=100) \n",
    "# Here, you're subsetting `X` for the x and y arguments to avoid using their labels. \n",
    "# `hue` takes the value of the attribute `kmeans.labels_`, which is the result of running the k-means algorithm.\n",
    "# `s` represents the size of the points you want to see in the plot.\n",
    "\n",
    "ax.grid(False) # This removes the grid from the background.\n",
    "plt.xlabel('Seconds') # Label x-axis.\n",
    "plt.ylabel('Latitude') # Label y-axis.\n",
    "plt.show()"
   ]
  },
  {
   "cell_type": "code",
   "execution_count": 45,
   "id": "f0895160",
   "metadata": {},
   "outputs": [
    {
     "data": {
      "image/png": "[encoded data removed]",
      "text/plain": [
       "<Figure size 864x576 with 1 Axes>"
      ]
     },
     "metadata": {
      "needs_background": "light"
     },
     "output_type": "display_data"
    }
   ],
   "source": [
    "# Plot the clusters for the \"longitude\" and \"length_seconds\" variables.\n",
    "\n",
    "plt.figure(figsize=(12,8))\n",
    "ax = sns.scatterplot(x=df_k['longitude'], y=df_k['length_seconds'], hue=kmeans.labels_, s=100)\n",
    "\n",
    "ax.grid(False) \n",
    "plt.xlabel('Longitude') \n",
    "plt.ylabel('Seconds') \n",
    "plt.show()"
   ]
  },
  {
   "cell_type": "markdown",
   "id": "22871ea0",
   "metadata": {},
   "source": [
    "##### Thoughts: These cluster plots make sense visually, considering the large majority of observations appear in the \"0\" (pink) cluster. In order to gain better insights, this cluster should be broken down into smaller sub-groups, and plotted with axis tick mark multipliers around x100, or possibly as low as x10."
   ]
  },
  {
   "cell_type": "code",
   "execution_count": 47,
   "id": "14a77eb4",
   "metadata": {},
   "outputs": [
    {
     "name": "stderr",
     "output_type": "stream",
     "text": [
      "C:\\Users\\Jay\\anaconda3\\lib\\site-packages\\pandas\\core\\indexing.py:1684: SettingWithCopyWarning: \n",
      "A value is trying to be set on a copy of a slice from a DataFrame.\n",
      "Try using .loc[row_indexer,col_indexer] = value instead\n",
      "\n",
      "See the caveats in the documentation: https://pandas.pydata.org/pandas-docs/stable/user_guide/indexing.html#returning-a-view-versus-a-copy\n",
      "  self.obj[key] = infer_fill_value(value)\n",
      "C:\\Users\\Jay\\anaconda3\\lib\\site-packages\\pandas\\core\\indexing.py:1817: SettingWithCopyWarning: \n",
      "A value is trying to be set on a copy of a slice from a DataFrame.\n",
      "Try using .loc[row_indexer,col_indexer] = value instead\n",
      "\n",
      "See the caveats in the documentation: https://pandas.pydata.org/pandas-docs/stable/user_guide/indexing.html#returning-a-view-versus-a-copy\n",
      "  self._setitem_single_column(loc, value, pi)\n"
     ]
    }
   ],
   "source": [
    "df_k.loc[df_k['clusters'] == 2, 'cluster'] = 'dark purple'\n",
    "df_k.loc[df_k['clusters'] == 1, 'cluster'] = 'purple'\n",
    "df_k.loc[df_k['clusters'] == 0, 'cluster'] = 'pink'"
   ]
  },
  {
   "cell_type": "markdown",
   "id": "9a484959",
   "metadata": {},
   "source": [
    "#### Descriptive statistics:"
   ]
  },
  {
   "cell_type": "code",
   "execution_count": 48,
   "id": "197a84fe",
   "metadata": {},
   "outputs": [
    {
     "data": {
      "text/html": [
       "<div>\n",
       "<style scoped>\n",
       "    .dataframe tbody tr th:only-of-type {\n",
       "        vertical-align: middle;\n",
       "    }\n",
       "\n",
       "    .dataframe tbody tr th {\n",
       "        vertical-align: top;\n",
       "    }\n",
       "\n",
       "    .dataframe thead tr th {\n",
       "        text-align: left;\n",
       "    }\n",
       "\n",
       "    .dataframe thead tr:last-of-type th {\n",
       "        text-align: right;\n",
       "    }\n",
       "</style>\n",
       "<table border=\"1\" class=\"dataframe\">\n",
       "  <thead>\n",
       "    <tr>\n",
       "      <th></th>\n",
       "      <th colspan=\"2\" halign=\"left\">length_seconds</th>\n",
       "      <th colspan=\"2\" halign=\"left\">latitude</th>\n",
       "      <th colspan=\"2\" halign=\"left\">longitude</th>\n",
       "    </tr>\n",
       "    <tr>\n",
       "      <th></th>\n",
       "      <th>mean</th>\n",
       "      <th>median</th>\n",
       "      <th>mean</th>\n",
       "      <th>median</th>\n",
       "      <th>mean</th>\n",
       "      <th>median</th>\n",
       "    </tr>\n",
       "    <tr>\n",
       "      <th>cluster</th>\n",
       "      <th></th>\n",
       "      <th></th>\n",
       "      <th></th>\n",
       "      <th></th>\n",
       "      <th></th>\n",
       "      <th></th>\n",
       "    </tr>\n",
       "  </thead>\n",
       "  <tbody>\n",
       "    <tr>\n",
       "      <th>dark purple</th>\n",
       "      <td>3.150115e+05</td>\n",
       "      <td>259200.0</td>\n",
       "      <td>37.796788</td>\n",
       "      <td>39.5985</td>\n",
       "      <td>-85.184231</td>\n",
       "      <td>-91.5975</td>\n",
       "    </tr>\n",
       "    <tr>\n",
       "      <th>pink</th>\n",
       "      <td>9.904423e+02</td>\n",
       "      <td>180.0</td>\n",
       "      <td>38.143067</td>\n",
       "      <td>39.4140</td>\n",
       "      <td>-86.874376</td>\n",
       "      <td>-87.8940</td>\n",
       "    </tr>\n",
       "    <tr>\n",
       "      <th>purple</th>\n",
       "      <td>1.432246e+06</td>\n",
       "      <td>1209600.0</td>\n",
       "      <td>36.188769</td>\n",
       "      <td>40.6370</td>\n",
       "      <td>-69.560462</td>\n",
       "      <td>-84.9690</td>\n",
       "    </tr>\n",
       "  </tbody>\n",
       "</table>\n",
       "</div>"
      ],
      "text/plain": [
       "            length_seconds              latitude           longitude         \n",
       "                      mean     median       mean   median       mean   median\n",
       "cluster                                                                      \n",
       "dark purple   3.150115e+05   259200.0  37.796788  39.5985 -85.184231 -91.5975\n",
       "pink          9.904423e+02      180.0  38.143067  39.4140 -86.874376 -87.8940\n",
       "purple        1.432246e+06  1209600.0  36.188769  40.6370 -69.560462 -84.9690"
      ]
     },
     "execution_count": 48,
     "metadata": {},
     "output_type": "execute_result"
    }
   ],
   "source": [
    "df_k.groupby('cluster').agg({'length_seconds':['mean', 'median'], \n",
    "                             'latitude':['mean', 'median'], \n",
    "                            'longitude':['mean', 'median']})"
   ]
  },
  {
   "cell_type": "markdown",
   "id": "b942f589",
   "metadata": {},
   "source": [
    "##### Proposed uses: Considering the median value for length_seconds has remained a constant of 180 (3 minutes) even prior to removing outliers, this is clearly the most common reported duration. This is also displayed in the tight linear clusters of pink data points above. It will likely provide additional insight to visually plot only these observations seperately. \n",
    "##### Similarly for latitude and longitude, the median values should consistently indicate the area(s) where the most sightings have been reported, while the mean values may have been affected by remaining outliers."
   ]
  },
  {
   "cell_type": "code",
   "execution_count": 49,
   "id": "535f1df3",
   "metadata": {},
   "outputs": [],
   "source": [
    "# export current dataframe to Prepared Data\n",
    "df_2.to_csv(os.path.join(path, '02 Data Sets', 'Prepared Data', 'ufo_sighting_data_clustered.csv')) "
   ]
  },
  {
   "cell_type": "code",
   "execution_count": null,
   "id": "53dfad94",
   "metadata": {},
   "outputs": [],
   "source": []
  }
 ],
 "metadata": {
  "kernelspec": {
   "display_name": "Python 3 (ipykernel)",
   "language": "python",
   "name": "python3"
  },
  "language_info": {
   "codemirror_mode": {
    "name": "ipython",
    "version": 3
   },
   "file_extension": ".py",
   "mimetype": "text/x-python",
   "name": "python",
   "nbconvert_exporter": "python",
   "pygments_lexer": "ipython3",
   "version": "3.9.7"
  }
 },
 "nbformat": 4,
 "nbformat_minor": 5
}
