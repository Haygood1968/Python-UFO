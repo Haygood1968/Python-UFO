{
 "cells": [
  {
   "cell_type": "markdown",
   "id": "c37eb82b",
   "metadata": {},
   "source": [
    "### Consistency checks"
   ]
  },
  {
   "cell_type": "code",
   "execution_count": 8,
   "id": "4943d919",
   "metadata": {},
   "outputs": [],
   "source": [
    "# Import Libraries\n",
    "import pandas as pd\n",
    "import numpy as np\n",
    "import os"
   ]
  },
  {
   "cell_type": "code",
   "execution_count": 3,
   "id": "a052f512",
   "metadata": {},
   "outputs": [],
   "source": [
    "# Import Data\n",
    "df = pd.read_csv(r'C:\\Users\\Jay\\Documents\\UFO Sightings Analysis\\02 Data Sets\\Original Data\\ufo_sighting_data.csv', index_col = False, low_memory=False)"
   ]
  },
  {
   "cell_type": "code",
   "execution_count": 4,
   "id": "4a57d9c3",
   "metadata": {},
   "outputs": [],
   "source": [
    "path = r'C:\\Users\\Jay\\Documents\\UFO Sightings Analysis'"
   ]
  },
  {
   "cell_type": "code",
   "execution_count": 5,
   "id": "5cfeebc8",
   "metadata": {},
   "outputs": [
    {
     "data": {
      "text/plain": [
       "'C:\\\\Users\\\\Jay\\\\Documents\\\\UFO Sightings Analysis'"
      ]
     },
     "execution_count": 5,
     "metadata": {},
     "output_type": "execute_result"
    }
   ],
   "source": [
    "path"
   ]
  },
  {
   "cell_type": "code",
   "execution_count": 6,
   "id": "b2cc3bd5",
   "metadata": {},
   "outputs": [
    {
     "data": {
      "text/html": [
       "<div>\n",
       "<style scoped>\n",
       "    .dataframe tbody tr th:only-of-type {\n",
       "        vertical-align: middle;\n",
       "    }\n",
       "\n",
       "    .dataframe tbody tr th {\n",
       "        vertical-align: top;\n",
       "    }\n",
       "\n",
       "    .dataframe thead th {\n",
       "        text-align: right;\n",
       "    }\n",
       "</style>\n",
       "<table border=\"1\" class=\"dataframe\">\n",
       "  <thead>\n",
       "    <tr style=\"text-align: right;\">\n",
       "      <th></th>\n",
       "      <th>Date_time</th>\n",
       "      <th>city</th>\n",
       "      <th>state/province</th>\n",
       "      <th>country</th>\n",
       "      <th>UFO_shape</th>\n",
       "      <th>length_of_encounter_seconds</th>\n",
       "      <th>described_duration_of_encounter</th>\n",
       "      <th>description</th>\n",
       "      <th>date_documented</th>\n",
       "      <th>latitude</th>\n",
       "      <th>longitude</th>\n",
       "    </tr>\n",
       "  </thead>\n",
       "  <tbody>\n",
       "    <tr>\n",
       "      <th>0</th>\n",
       "      <td>10/10/1949 20:30</td>\n",
       "      <td>san marcos</td>\n",
       "      <td>tx</td>\n",
       "      <td>us</td>\n",
       "      <td>cylinder</td>\n",
       "      <td>2700</td>\n",
       "      <td>45 minutes</td>\n",
       "      <td>This event took place in early fall around 194...</td>\n",
       "      <td>4/27/2004</td>\n",
       "      <td>29.8830556</td>\n",
       "      <td>-97.941111</td>\n",
       "    </tr>\n",
       "    <tr>\n",
       "      <th>1</th>\n",
       "      <td>10/10/1949 21:00</td>\n",
       "      <td>lackland afb</td>\n",
       "      <td>tx</td>\n",
       "      <td>NaN</td>\n",
       "      <td>light</td>\n",
       "      <td>7200</td>\n",
       "      <td>1-2 hrs</td>\n",
       "      <td>1949 Lackland AFB&amp;#44 TX.  Lights racing acros...</td>\n",
       "      <td>12/16/2005</td>\n",
       "      <td>29.38421</td>\n",
       "      <td>-98.581082</td>\n",
       "    </tr>\n",
       "    <tr>\n",
       "      <th>2</th>\n",
       "      <td>10/10/1955 17:00</td>\n",
       "      <td>chester (uk/england)</td>\n",
       "      <td>NaN</td>\n",
       "      <td>gb</td>\n",
       "      <td>circle</td>\n",
       "      <td>20</td>\n",
       "      <td>20 seconds</td>\n",
       "      <td>Green/Orange circular disc over Chester&amp;#44 En...</td>\n",
       "      <td>1/21/2008</td>\n",
       "      <td>53.2</td>\n",
       "      <td>-2.916667</td>\n",
       "    </tr>\n",
       "    <tr>\n",
       "      <th>3</th>\n",
       "      <td>10/10/1956 21:00</td>\n",
       "      <td>edna</td>\n",
       "      <td>tx</td>\n",
       "      <td>us</td>\n",
       "      <td>circle</td>\n",
       "      <td>20</td>\n",
       "      <td>1/2 hour</td>\n",
       "      <td>My older brother and twin sister were leaving ...</td>\n",
       "      <td>1/17/2004</td>\n",
       "      <td>28.9783333</td>\n",
       "      <td>-96.645833</td>\n",
       "    </tr>\n",
       "    <tr>\n",
       "      <th>4</th>\n",
       "      <td>10/10/1960 20:00</td>\n",
       "      <td>kaneohe</td>\n",
       "      <td>hi</td>\n",
       "      <td>us</td>\n",
       "      <td>light</td>\n",
       "      <td>900</td>\n",
       "      <td>15 minutes</td>\n",
       "      <td>AS a Marine 1st Lt. flying an FJ4B fighter/att...</td>\n",
       "      <td>1/22/2004</td>\n",
       "      <td>21.4180556</td>\n",
       "      <td>-157.803611</td>\n",
       "    </tr>\n",
       "  </tbody>\n",
       "</table>\n",
       "</div>"
      ],
      "text/plain": [
       "          Date_time                  city state/province country UFO_shape  \\\n",
       "0  10/10/1949 20:30            san marcos             tx      us  cylinder   \n",
       "1  10/10/1949 21:00          lackland afb             tx     NaN     light   \n",
       "2  10/10/1955 17:00  chester (uk/england)            NaN      gb    circle   \n",
       "3  10/10/1956 21:00                  edna             tx      us    circle   \n",
       "4  10/10/1960 20:00               kaneohe             hi      us     light   \n",
       "\n",
       "  length_of_encounter_seconds described_duration_of_encounter  \\\n",
       "0                        2700                      45 minutes   \n",
       "1                        7200                         1-2 hrs   \n",
       "2                          20                      20 seconds   \n",
       "3                          20                        1/2 hour   \n",
       "4                         900                      15 minutes   \n",
       "\n",
       "                                         description date_documented  \\\n",
       "0  This event took place in early fall around 194...       4/27/2004   \n",
       "1  1949 Lackland AFB&#44 TX.  Lights racing acros...      12/16/2005   \n",
       "2  Green/Orange circular disc over Chester&#44 En...       1/21/2008   \n",
       "3  My older brother and twin sister were leaving ...       1/17/2004   \n",
       "4  AS a Marine 1st Lt. flying an FJ4B fighter/att...       1/22/2004   \n",
       "\n",
       "     latitude   longitude  \n",
       "0  29.8830556  -97.941111  \n",
       "1    29.38421  -98.581082  \n",
       "2        53.2   -2.916667  \n",
       "3  28.9783333  -96.645833  \n",
       "4  21.4180556 -157.803611  "
      ]
     },
     "execution_count": 6,
     "metadata": {},
     "output_type": "execute_result"
    }
   ],
   "source": [
    "df.head()"
   ]
  },
  {
   "cell_type": "code",
   "execution_count": 9,
   "id": "bc15e819",
   "metadata": {},
   "outputs": [
    {
     "name": "stdout",
     "output_type": "stream",
     "text": [
      "state/province\n",
      "country\n",
      "UFO_shape\n",
      "description\n"
     ]
    }
   ],
   "source": [
    "# check for mixed types\n",
    "for col in df.columns.tolist():\n",
    "  weird = (df[[col]].applymap(type) != df[[col]].iloc[0].apply(type)).any(axis = 1)\n",
    "  if len (df[weird]) > 0:\n",
    "    print (col)"
   ]
  },
  {
   "cell_type": "markdown",
   "id": "f86292a1",
   "metadata": {},
   "source": [
    "##### Mixed type data can be accounted for as columns in question also include blanks."
   ]
  },
  {
   "cell_type": "code",
   "execution_count": 10,
   "id": "2ce970bc",
   "metadata": {},
   "outputs": [
    {
     "data": {
      "text/plain": [
       "Date_time                           object\n",
       "city                                object\n",
       "state/province                      object\n",
       "country                             object\n",
       "UFO_shape                           object\n",
       "length_of_encounter_seconds         object\n",
       "described_duration_of_encounter     object\n",
       "description                         object\n",
       "date_documented                     object\n",
       "latitude                            object\n",
       "longitude                          float64\n",
       "dtype: object"
      ]
     },
     "execution_count": 10,
     "metadata": {},
     "output_type": "execute_result"
    }
   ],
   "source": [
    "df.dtypes"
   ]
  },
  {
   "cell_type": "code",
   "execution_count": 11,
   "id": "c8d21c40",
   "metadata": {},
   "outputs": [
    {
     "data": {
      "text/plain": [
       "(80332, 11)"
      ]
     },
     "execution_count": 11,
     "metadata": {},
     "output_type": "execute_result"
    }
   ],
   "source": [
    "df.shape"
   ]
  },
  {
   "cell_type": "code",
   "execution_count": 12,
   "id": "14230a66",
   "metadata": {},
   "outputs": [
    {
     "name": "stdout",
     "output_type": "stream",
     "text": [
      "<class 'pandas.core.frame.DataFrame'>\n",
      "RangeIndex: 80332 entries, 0 to 80331\n",
      "Data columns (total 11 columns):\n",
      " #   Column                           Non-Null Count  Dtype  \n",
      "---  ------                           --------------  -----  \n",
      " 0   Date_time                        80332 non-null  object \n",
      " 1   city                             80332 non-null  object \n",
      " 2   state/province                   74535 non-null  object \n",
      " 3   country                          70662 non-null  object \n",
      " 4   UFO_shape                        78400 non-null  object \n",
      " 5   length_of_encounter_seconds      80332 non-null  object \n",
      " 6   described_duration_of_encounter  80332 non-null  object \n",
      " 7   description                      80317 non-null  object \n",
      " 8   date_documented                  80332 non-null  object \n",
      " 9   latitude                         80332 non-null  object \n",
      " 10  longitude                        80332 non-null  float64\n",
      "dtypes: float64(1), object(10)\n",
      "memory usage: 6.7+ MB\n"
     ]
    }
   ],
   "source": [
    "df.info()"
   ]
  },
  {
   "cell_type": "code",
   "execution_count": 13,
   "id": "99314816",
   "metadata": {},
   "outputs": [
    {
     "data": {
      "text/plain": [
       "Date_time                             0\n",
       "city                                  0\n",
       "state/province                     5797\n",
       "country                            9670\n",
       "UFO_shape                          1932\n",
       "length_of_encounter_seconds           0\n",
       "described_duration_of_encounter       0\n",
       "description                          15\n",
       "date_documented                       0\n",
       "latitude                              0\n",
       "longitude                             0\n",
       "dtype: int64"
      ]
     },
     "execution_count": 13,
     "metadata": {},
     "output_type": "execute_result"
    }
   ],
   "source": [
    "# find missing values\n",
    "df.isnull().sum()"
   ]
  },
  {
   "cell_type": "code",
   "execution_count": 14,
   "id": "5e0366e1",
   "metadata": {},
   "outputs": [],
   "source": [
    "# find full duplicates\n",
    "df_dups = df[df.duplicated()]"
   ]
  },
  {
   "cell_type": "code",
   "execution_count": 15,
   "id": "f1a3608f",
   "metadata": {},
   "outputs": [
    {
     "data": {
      "text/html": [
       "<div>\n",
       "<style scoped>\n",
       "    .dataframe tbody tr th:only-of-type {\n",
       "        vertical-align: middle;\n",
       "    }\n",
       "\n",
       "    .dataframe tbody tr th {\n",
       "        vertical-align: top;\n",
       "    }\n",
       "\n",
       "    .dataframe thead th {\n",
       "        text-align: right;\n",
       "    }\n",
       "</style>\n",
       "<table border=\"1\" class=\"dataframe\">\n",
       "  <thead>\n",
       "    <tr style=\"text-align: right;\">\n",
       "      <th></th>\n",
       "      <th>Date_time</th>\n",
       "      <th>city</th>\n",
       "      <th>state/province</th>\n",
       "      <th>country</th>\n",
       "      <th>UFO_shape</th>\n",
       "      <th>length_of_encounter_seconds</th>\n",
       "      <th>described_duration_of_encounter</th>\n",
       "      <th>description</th>\n",
       "      <th>date_documented</th>\n",
       "      <th>latitude</th>\n",
       "      <th>longitude</th>\n",
       "    </tr>\n",
       "  </thead>\n",
       "  <tbody>\n",
       "  </tbody>\n",
       "</table>\n",
       "</div>"
      ],
      "text/plain": [
       "Empty DataFrame\n",
       "Columns: [Date_time, city, state/province, country, UFO_shape, length_of_encounter_seconds, described_duration_of_encounter, description, date_documented, latitude, longitude]\n",
       "Index: []"
      ]
     },
     "execution_count": 15,
     "metadata": {},
     "output_type": "execute_result"
    }
   ],
   "source": [
    "df_dups"
   ]
  },
  {
   "cell_type": "markdown",
   "id": "2ff35f58",
   "metadata": {},
   "source": [
    "##### No duplicate entries were identified."
   ]
  },
  {
   "cell_type": "markdown",
   "id": "bde33a48",
   "metadata": {},
   "source": [
    "### Cleaning procedures"
   ]
  },
  {
   "cell_type": "code",
   "execution_count": 34,
   "id": "bcf82d76",
   "metadata": {},
   "outputs": [],
   "source": [
    "# replace 33q.200088 with 33.200088 in latitude column\n",
    "df['latitude'] = df['latitude'].replace('33q.200088', '33.200088')"
   ]
  },
  {
   "cell_type": "code",
   "execution_count": 35,
   "id": "0d8b11ad",
   "metadata": {},
   "outputs": [],
   "source": [
    "# change latitude data type\n",
    "df['latitude'] = df['latitude'].astype('float64')"
   ]
  },
  {
   "cell_type": "code",
   "execution_count": 38,
   "id": "79438a7c",
   "metadata": {},
   "outputs": [],
   "source": [
    "# replace syntax errors in length_of_encounter_seconds column\n",
    "df['length_of_encounter_seconds'] = df['length_of_encounter_seconds'].replace('0.5`', '0.5')"
   ]
  },
  {
   "cell_type": "code",
   "execution_count": 39,
   "id": "c2ba04d7",
   "metadata": {},
   "outputs": [],
   "source": [
    "df['length_of_encounter_seconds'] = df['length_of_encounter_seconds'].replace('2`', '2')"
   ]
  },
  {
   "cell_type": "code",
   "execution_count": 40,
   "id": "6975036d",
   "metadata": {},
   "outputs": [],
   "source": [
    "df['length_of_encounter_seconds'] = df['length_of_encounter_seconds'].replace('8`', '8')"
   ]
  },
  {
   "cell_type": "code",
   "execution_count": 41,
   "id": "a7b87b3c",
   "metadata": {
    "scrolled": true
   },
   "outputs": [],
   "source": [
    "# change length_of_encounter_seconds data type\n",
    "df['length_of_encounter_seconds'] = df['length_of_encounter_seconds'].astype('float64')"
   ]
  },
  {
   "cell_type": "code",
   "execution_count": 42,
   "id": "e5f11bce",
   "metadata": {
    "scrolled": true
   },
   "outputs": [
    {
     "data": {
      "text/html": [
       "<div>\n",
       "<style scoped>\n",
       "    .dataframe tbody tr th:only-of-type {\n",
       "        vertical-align: middle;\n",
       "    }\n",
       "\n",
       "    .dataframe tbody tr th {\n",
       "        vertical-align: top;\n",
       "    }\n",
       "\n",
       "    .dataframe thead th {\n",
       "        text-align: right;\n",
       "    }\n",
       "</style>\n",
       "<table border=\"1\" class=\"dataframe\">\n",
       "  <thead>\n",
       "    <tr style=\"text-align: right;\">\n",
       "      <th></th>\n",
       "      <th>length_of_encounter_seconds</th>\n",
       "      <th>latitude</th>\n",
       "      <th>longitude</th>\n",
       "    </tr>\n",
       "  </thead>\n",
       "  <tbody>\n",
       "    <tr>\n",
       "      <th>count</th>\n",
       "      <td>8.033200e+04</td>\n",
       "      <td>80332.000000</td>\n",
       "      <td>80332.000000</td>\n",
       "    </tr>\n",
       "    <tr>\n",
       "      <th>mean</th>\n",
       "      <td>9.016889e+03</td>\n",
       "      <td>38.124416</td>\n",
       "      <td>-86.772885</td>\n",
       "    </tr>\n",
       "    <tr>\n",
       "      <th>std</th>\n",
       "      <td>6.202168e+05</td>\n",
       "      <td>10.469585</td>\n",
       "      <td>39.697205</td>\n",
       "    </tr>\n",
       "    <tr>\n",
       "      <th>min</th>\n",
       "      <td>1.000000e-03</td>\n",
       "      <td>-82.862752</td>\n",
       "      <td>-176.658056</td>\n",
       "    </tr>\n",
       "    <tr>\n",
       "      <th>25%</th>\n",
       "      <td>3.000000e+01</td>\n",
       "      <td>34.134722</td>\n",
       "      <td>-112.073333</td>\n",
       "    </tr>\n",
       "    <tr>\n",
       "      <th>50%</th>\n",
       "      <td>1.800000e+02</td>\n",
       "      <td>39.411111</td>\n",
       "      <td>-87.903611</td>\n",
       "    </tr>\n",
       "    <tr>\n",
       "      <th>75%</th>\n",
       "      <td>6.000000e+02</td>\n",
       "      <td>42.788333</td>\n",
       "      <td>-78.755000</td>\n",
       "    </tr>\n",
       "    <tr>\n",
       "      <th>max</th>\n",
       "      <td>9.783600e+07</td>\n",
       "      <td>72.700000</td>\n",
       "      <td>178.441900</td>\n",
       "    </tr>\n",
       "  </tbody>\n",
       "</table>\n",
       "</div>"
      ],
      "text/plain": [
       "       length_of_encounter_seconds      latitude     longitude\n",
       "count                 8.033200e+04  80332.000000  80332.000000\n",
       "mean                  9.016889e+03     38.124416    -86.772885\n",
       "std                   6.202168e+05     10.469585     39.697205\n",
       "min                   1.000000e-03    -82.862752   -176.658056\n",
       "25%                   3.000000e+01     34.134722   -112.073333\n",
       "50%                   1.800000e+02     39.411111    -87.903611\n",
       "75%                   6.000000e+02     42.788333    -78.755000\n",
       "max                   9.783600e+07     72.700000    178.441900"
      ]
     },
     "execution_count": 42,
     "metadata": {},
     "output_type": "execute_result"
    }
   ],
   "source": [
    "df.describe() "
   ]
  },
  {
   "cell_type": "code",
   "execution_count": 43,
   "id": "a770ec64",
   "metadata": {},
   "outputs": [],
   "source": [
    "# export cleaned dataframe to Prepared Data\n",
    "df.to_csv(os.path.join(path, '02 Data Sets', 'Prepared Data', 'ufo_sighting_data_cleaned.csv')) "
   ]
  },
  {
   "cell_type": "code",
   "execution_count": null,
   "id": "53bd0350",
   "metadata": {},
   "outputs": [],
   "source": []
  }
 ],
 "metadata": {
  "kernelspec": {
   "display_name": "Python 3 (ipykernel)",
   "language": "python",
   "name": "python3"
  },
  "language_info": {
   "codemirror_mode": {
    "name": "ipython",
    "version": 3
   },
   "file_extension": ".py",
   "mimetype": "text/x-python",
   "name": "python",
   "nbconvert_exporter": "python",
   "pygments_lexer": "ipython3",
   "version": "3.9.7"
  }
 },
 "nbformat": 4,
 "nbformat_minor": 5
}
