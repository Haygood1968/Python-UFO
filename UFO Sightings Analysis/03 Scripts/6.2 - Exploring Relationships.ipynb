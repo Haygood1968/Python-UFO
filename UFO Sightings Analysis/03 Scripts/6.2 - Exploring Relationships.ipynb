{
 "cells": [
  {
   "cell_type": "markdown",
   "id": "4e769d90",
   "metadata": {},
   "source": [
    "### Script contents:\n",
    "\n",
    "#### 1. Importing Visualization Libraries and Data\n",
    "#### 2. Data Cleaning Continued\n",
    "     Renaming Columns\n",
    "     Missing values Check\n",
    "#### 3. Exploring Relationships\n",
    "     Correlation heatmap using seaborn\n",
    "     Scatterplots\n",
    "     Pair Plots\n",
    "     Categorical Plots\n",
    "#### 4. Hypotheses"
   ]
  },
  {
   "cell_type": "markdown",
   "id": "4d33f432",
   "metadata": {},
   "source": [
    "### 1. Importing Visualization Libraries and Data"
   ]
  },
  {
   "cell_type": "code",
   "execution_count": 1,
   "id": "de3f022f",
   "metadata": {},
   "outputs": [],
   "source": [
    "# Import Libraries\n",
    "import pandas as pd\n",
    "import numpy as np\n",
    "import seaborn as sns\n",
    "import matplotlib.pyplot as plt\n",
    "import matplotlib\n",
    "import os"
   ]
  },
  {
   "cell_type": "code",
   "execution_count": 2,
   "id": "90a5b940",
   "metadata": {},
   "outputs": [],
   "source": [
    "# Import Data\n",
    "df = pd.read_csv(r'C:\\Users\\Jay\\Documents\\UFO Sightings Analysis\\02 Data Sets\\Prepared Data\\ufo_sighting_data_cleaned.csv', index_col = False, low_memory=False)"
   ]
  },
  {
   "cell_type": "code",
   "execution_count": 3,
   "id": "6e60e3f5",
   "metadata": {},
   "outputs": [
    {
     "data": {
      "text/plain": [
       "'3.4.3'"
      ]
     },
     "execution_count": 3,
     "metadata": {},
     "output_type": "execute_result"
    }
   ],
   "source": [
    "# Verify matplotlib version\n",
    "matplotlib.__version__"
   ]
  },
  {
   "cell_type": "code",
   "execution_count": 4,
   "id": "0bc0fad5",
   "metadata": {},
   "outputs": [],
   "source": [
    "# Enable the charts created to be displayed without the need to \"call\" them.\n",
    "%matplotlib inline"
   ]
  },
  {
   "cell_type": "code",
   "execution_count": 5,
   "id": "6fc4112c",
   "metadata": {},
   "outputs": [],
   "source": [
    "# Define path\n",
    "path = r'C:\\Users\\Jay\\Documents\\UFO Sightings Analysis'"
   ]
  },
  {
   "cell_type": "markdown",
   "id": "6d651fa8",
   "metadata": {},
   "source": [
    "### 2. Data Cleaning Continued"
   ]
  },
  {
   "cell_type": "code",
   "execution_count": 6,
   "id": "ed343324",
   "metadata": {},
   "outputs": [
    {
     "data": {
      "text/plain": [
       "(80231, 12)"
      ]
     },
     "execution_count": 6,
     "metadata": {},
     "output_type": "execute_result"
    }
   ],
   "source": [
    "df.shape"
   ]
  },
  {
   "cell_type": "code",
   "execution_count": 7,
   "id": "6014b2c5",
   "metadata": {},
   "outputs": [
    {
     "data": {
      "text/plain": [
       "Index(['Unnamed: 0', 'Date_time', 'city', 'state/province', 'country',\n",
       "       'UFO_shape', 'length_of_encounter_seconds',\n",
       "       'described_duration_of_encounter', 'description', 'date_documented',\n",
       "       'latitude', 'longitude'],\n",
       "      dtype='object')"
      ]
     },
     "execution_count": 7,
     "metadata": {},
     "output_type": "execute_result"
    }
   ],
   "source": [
    "df.columns"
   ]
  },
  {
   "cell_type": "code",
   "execution_count": 8,
   "id": "93c295e2",
   "metadata": {},
   "outputs": [
    {
     "data": {
      "text/plain": [
       "Unnamed: 0                           int64\n",
       "Date_time                           object\n",
       "city                                object\n",
       "state/province                      object\n",
       "country                             object\n",
       "UFO_shape                           object\n",
       "length_of_encounter_seconds        float64\n",
       "described_duration_of_encounter     object\n",
       "description                         object\n",
       "date_documented                     object\n",
       "latitude                           float64\n",
       "longitude                          float64\n",
       "dtype: object"
      ]
     },
     "execution_count": 8,
     "metadata": {},
     "output_type": "execute_result"
    }
   ],
   "source": [
    "df.dtypes"
   ]
  },
  {
   "cell_type": "markdown",
   "id": "a2c88988",
   "metadata": {},
   "source": [
    "#### Renaming Columns:"
   ]
  },
  {
   "cell_type": "code",
   "execution_count": 9,
   "id": "7800dc57",
   "metadata": {},
   "outputs": [],
   "source": [
    "# Rename columns w/long names\n",
    "df.rename(columns = {'length_of_encounter_seconds' : 'length_seconds', 'described_duration_of_encounter': 'duration_description'},\n",
    "                      inplace = True)"
   ]
  },
  {
   "cell_type": "markdown",
   "id": "9c8cf4d1",
   "metadata": {},
   "source": [
    "#### Missing Values Check:"
   ]
  },
  {
   "cell_type": "code",
   "execution_count": 10,
   "id": "091ca773",
   "metadata": {},
   "outputs": [
    {
     "data": {
      "text/plain": [
       "Unnamed: 0                 0\n",
       "Date_time                  0\n",
       "city                       0\n",
       "state/province          5775\n",
       "country                 2680\n",
       "UFO_shape               1929\n",
       "length_seconds             0\n",
       "duration_description       0\n",
       "description               15\n",
       "date_documented            0\n",
       "latitude                   0\n",
       "longitude                  0\n",
       "dtype: int64"
      ]
     },
     "execution_count": 10,
     "metadata": {},
     "output_type": "execute_result"
    }
   ],
   "source": [
    "# Check for missing values\n",
    "df.isnull().sum()"
   ]
  },
  {
   "cell_type": "markdown",
   "id": "9ae460e1",
   "metadata": {},
   "source": [
    "###### Missing values concur with findings in previous script."
   ]
  },
  {
   "cell_type": "code",
   "execution_count": 11,
   "id": "865b6728",
   "metadata": {},
   "outputs": [],
   "source": [
    "# Delete ambiguous number column\n",
    "del df['Unnamed: 0']"
   ]
  },
  {
   "cell_type": "code",
   "execution_count": 12,
   "id": "b5583a1c",
   "metadata": {},
   "outputs": [
    {
     "data": {
      "text/html": [
       "<div>\n",
       "<style scoped>\n",
       "    .dataframe tbody tr th:only-of-type {\n",
       "        vertical-align: middle;\n",
       "    }\n",
       "\n",
       "    .dataframe tbody tr th {\n",
       "        vertical-align: top;\n",
       "    }\n",
       "\n",
       "    .dataframe thead th {\n",
       "        text-align: right;\n",
       "    }\n",
       "</style>\n",
       "<table border=\"1\" class=\"dataframe\">\n",
       "  <thead>\n",
       "    <tr style=\"text-align: right;\">\n",
       "      <th></th>\n",
       "      <th>Date_time</th>\n",
       "      <th>city</th>\n",
       "      <th>state/province</th>\n",
       "      <th>country</th>\n",
       "      <th>UFO_shape</th>\n",
       "      <th>length_seconds</th>\n",
       "      <th>duration_description</th>\n",
       "      <th>description</th>\n",
       "      <th>date_documented</th>\n",
       "      <th>latitude</th>\n",
       "      <th>longitude</th>\n",
       "    </tr>\n",
       "  </thead>\n",
       "  <tbody>\n",
       "    <tr>\n",
       "      <th>0</th>\n",
       "      <td>10/10/1949 20:30</td>\n",
       "      <td>san marcos</td>\n",
       "      <td>tx</td>\n",
       "      <td>us</td>\n",
       "      <td>cylinder</td>\n",
       "      <td>2700.0</td>\n",
       "      <td>45 minutes</td>\n",
       "      <td>This event took place in early fall around 194...</td>\n",
       "      <td>4/27/2004</td>\n",
       "      <td>29.883056</td>\n",
       "      <td>-97.941111</td>\n",
       "    </tr>\n",
       "    <tr>\n",
       "      <th>1</th>\n",
       "      <td>10/10/1949 21:00</td>\n",
       "      <td>lackland afb</td>\n",
       "      <td>tx</td>\n",
       "      <td>us</td>\n",
       "      <td>light</td>\n",
       "      <td>7200.0</td>\n",
       "      <td>1-2 hrs</td>\n",
       "      <td>1949 Lackland AFB&amp;#44 TX.  Lights racing acros...</td>\n",
       "      <td>12/16/2005</td>\n",
       "      <td>29.384210</td>\n",
       "      <td>-98.581082</td>\n",
       "    </tr>\n",
       "    <tr>\n",
       "      <th>2</th>\n",
       "      <td>10/10/1955 17:00</td>\n",
       "      <td>chester (uk/england)</td>\n",
       "      <td>NaN</td>\n",
       "      <td>gb</td>\n",
       "      <td>circle</td>\n",
       "      <td>20.0</td>\n",
       "      <td>20 seconds</td>\n",
       "      <td>Green/Orange circular disc over Chester&amp;#44 En...</td>\n",
       "      <td>1/21/2008</td>\n",
       "      <td>53.200000</td>\n",
       "      <td>-2.916667</td>\n",
       "    </tr>\n",
       "    <tr>\n",
       "      <th>3</th>\n",
       "      <td>10/10/1956 21:00</td>\n",
       "      <td>edna</td>\n",
       "      <td>tx</td>\n",
       "      <td>us</td>\n",
       "      <td>circle</td>\n",
       "      <td>20.0</td>\n",
       "      <td>1/2 hour</td>\n",
       "      <td>My older brother and twin sister were leaving ...</td>\n",
       "      <td>1/17/2004</td>\n",
       "      <td>28.978333</td>\n",
       "      <td>-96.645833</td>\n",
       "    </tr>\n",
       "    <tr>\n",
       "      <th>4</th>\n",
       "      <td>10/10/1960 20:00</td>\n",
       "      <td>kaneohe</td>\n",
       "      <td>hi</td>\n",
       "      <td>us</td>\n",
       "      <td>light</td>\n",
       "      <td>900.0</td>\n",
       "      <td>15 minutes</td>\n",
       "      <td>AS a Marine 1st Lt. flying an FJ4B fighter/att...</td>\n",
       "      <td>1/22/2004</td>\n",
       "      <td>21.418056</td>\n",
       "      <td>-157.803611</td>\n",
       "    </tr>\n",
       "  </tbody>\n",
       "</table>\n",
       "</div>"
      ],
      "text/plain": [
       "          Date_time                  city state/province country UFO_shape  \\\n",
       "0  10/10/1949 20:30            san marcos             tx      us  cylinder   \n",
       "1  10/10/1949 21:00          lackland afb             tx      us     light   \n",
       "2  10/10/1955 17:00  chester (uk/england)            NaN      gb    circle   \n",
       "3  10/10/1956 21:00                  edna             tx      us    circle   \n",
       "4  10/10/1960 20:00               kaneohe             hi      us     light   \n",
       "\n",
       "   length_seconds duration_description  \\\n",
       "0          2700.0           45 minutes   \n",
       "1          7200.0              1-2 hrs   \n",
       "2            20.0           20 seconds   \n",
       "3            20.0             1/2 hour   \n",
       "4           900.0           15 minutes   \n",
       "\n",
       "                                         description date_documented  \\\n",
       "0  This event took place in early fall around 194...       4/27/2004   \n",
       "1  1949 Lackland AFB&#44 TX.  Lights racing acros...      12/16/2005   \n",
       "2  Green/Orange circular disc over Chester&#44 En...       1/21/2008   \n",
       "3  My older brother and twin sister were leaving ...       1/17/2004   \n",
       "4  AS a Marine 1st Lt. flying an FJ4B fighter/att...       1/22/2004   \n",
       "\n",
       "    latitude   longitude  \n",
       "0  29.883056  -97.941111  \n",
       "1  29.384210  -98.581082  \n",
       "2  53.200000   -2.916667  \n",
       "3  28.978333  -96.645833  \n",
       "4  21.418056 -157.803611  "
      ]
     },
     "execution_count": 12,
     "metadata": {},
     "output_type": "execute_result"
    }
   ],
   "source": [
    "df.head()"
   ]
  },
  {
   "cell_type": "code",
   "execution_count": 13,
   "id": "9548b24e",
   "metadata": {},
   "outputs": [],
   "source": [
    "# overwrite existing dataframe w/out missing values\n",
    "df.dropna(inplace = True)"
   ]
  },
  {
   "cell_type": "code",
   "execution_count": 14,
   "id": "da190d5b",
   "metadata": {},
   "outputs": [
    {
     "data": {
      "text/plain": [
       "(72658, 11)"
      ]
     },
     "execution_count": 14,
     "metadata": {},
     "output_type": "execute_result"
    }
   ],
   "source": [
    "df.shape"
   ]
  },
  {
   "cell_type": "markdown",
   "id": "e0fe2bd5",
   "metadata": {},
   "source": [
    "### 3. Exploring Relationships"
   ]
  },
  {
   "cell_type": "markdown",
   "id": "e7ac2af7",
   "metadata": {},
   "source": [
    "#### Correlation heatmap using seaborn:"
   ]
  },
  {
   "cell_type": "code",
   "execution_count": 15,
   "id": "6a1289b9",
   "metadata": {},
   "outputs": [],
   "source": [
    "# Create subset including 'length_seconds', 'latitude' & 'longitude' columns\n",
    "sub = df[['length_seconds','latitude','longitude']]"
   ]
  },
  {
   "cell_type": "code",
   "execution_count": 16,
   "id": "7f6a4fde",
   "metadata": {},
   "outputs": [
    {
     "data": {
      "text/html": [
       "<div>\n",
       "<style scoped>\n",
       "    .dataframe tbody tr th:only-of-type {\n",
       "        vertical-align: middle;\n",
       "    }\n",
       "\n",
       "    .dataframe tbody tr th {\n",
       "        vertical-align: top;\n",
       "    }\n",
       "\n",
       "    .dataframe thead th {\n",
       "        text-align: right;\n",
       "    }\n",
       "</style>\n",
       "<table border=\"1\" class=\"dataframe\">\n",
       "  <thead>\n",
       "    <tr style=\"text-align: right;\">\n",
       "      <th></th>\n",
       "      <th>length_seconds</th>\n",
       "      <th>latitude</th>\n",
       "      <th>longitude</th>\n",
       "    </tr>\n",
       "  </thead>\n",
       "  <tbody>\n",
       "    <tr>\n",
       "      <th>0</th>\n",
       "      <td>2700.0</td>\n",
       "      <td>29.883056</td>\n",
       "      <td>-97.941111</td>\n",
       "    </tr>\n",
       "    <tr>\n",
       "      <th>1</th>\n",
       "      <td>7200.0</td>\n",
       "      <td>29.384210</td>\n",
       "      <td>-98.581082</td>\n",
       "    </tr>\n",
       "    <tr>\n",
       "      <th>3</th>\n",
       "      <td>20.0</td>\n",
       "      <td>28.978333</td>\n",
       "      <td>-96.645833</td>\n",
       "    </tr>\n",
       "    <tr>\n",
       "      <th>4</th>\n",
       "      <td>900.0</td>\n",
       "      <td>21.418056</td>\n",
       "      <td>-157.803611</td>\n",
       "    </tr>\n",
       "    <tr>\n",
       "      <th>5</th>\n",
       "      <td>300.0</td>\n",
       "      <td>36.595000</td>\n",
       "      <td>-82.188889</td>\n",
       "    </tr>\n",
       "    <tr>\n",
       "      <th>...</th>\n",
       "      <td>...</td>\n",
       "      <td>...</td>\n",
       "      <td>...</td>\n",
       "    </tr>\n",
       "    <tr>\n",
       "      <th>80226</th>\n",
       "      <td>600.0</td>\n",
       "      <td>36.165833</td>\n",
       "      <td>-86.784444</td>\n",
       "    </tr>\n",
       "    <tr>\n",
       "      <th>80227</th>\n",
       "      <td>1200.0</td>\n",
       "      <td>43.613611</td>\n",
       "      <td>-116.202500</td>\n",
       "    </tr>\n",
       "    <tr>\n",
       "      <th>80228</th>\n",
       "      <td>1200.0</td>\n",
       "      <td>38.297222</td>\n",
       "      <td>-122.284444</td>\n",
       "    </tr>\n",
       "    <tr>\n",
       "      <th>80229</th>\n",
       "      <td>5.0</td>\n",
       "      <td>38.901111</td>\n",
       "      <td>-77.265556</td>\n",
       "    </tr>\n",
       "    <tr>\n",
       "      <th>80230</th>\n",
       "      <td>1020.0</td>\n",
       "      <td>35.652778</td>\n",
       "      <td>-97.477778</td>\n",
       "    </tr>\n",
       "  </tbody>\n",
       "</table>\n",
       "<p>72658 rows × 3 columns</p>\n",
       "</div>"
      ],
      "text/plain": [
       "       length_seconds   latitude   longitude\n",
       "0              2700.0  29.883056  -97.941111\n",
       "1              7200.0  29.384210  -98.581082\n",
       "3                20.0  28.978333  -96.645833\n",
       "4               900.0  21.418056 -157.803611\n",
       "5               300.0  36.595000  -82.188889\n",
       "...               ...        ...         ...\n",
       "80226           600.0  36.165833  -86.784444\n",
       "80227          1200.0  43.613611 -116.202500\n",
       "80228          1200.0  38.297222 -122.284444\n",
       "80229             5.0  38.901111  -77.265556\n",
       "80230          1020.0  35.652778  -97.477778\n",
       "\n",
       "[72658 rows x 3 columns]"
      ]
     },
     "execution_count": 16,
     "metadata": {},
     "output_type": "execute_result"
    }
   ],
   "source": [
    "sub"
   ]
  },
  {
   "cell_type": "code",
   "execution_count": 17,
   "id": "d42c1994",
   "metadata": {},
   "outputs": [
    {
     "data": {
      "image/png": "[encoded data removed]",
      "text/plain": [
       "<Figure size 720x720 with 2 Axes>"
      ]
     },
     "metadata": {
      "needs_background": "light"
     },
     "output_type": "display_data"
    }
   ],
   "source": [
    "# Create a subplot with matplotlib\n",
    "f,ax = plt.subplots(figsize=(10,10))\n",
    "\n",
    "# Create the correlation heatmap in seaborn by applying a heatmap onto the correlation matrix and the subplots defined above.\n",
    "corr = sns.heatmap(sub.corr(), annot = True, ax = ax) \n",
    "# The 'annot' argument allows the plot to place the correlation coefficients onto the heatmap."
   ]
  },
  {
   "cell_type": "markdown",
   "id": "70cf7fb8",
   "metadata": {},
   "source": [
    "##### The diagonal 1's represent each variable's perfect positive relationship to itself; -0.0015 & .0012 show a very weak relationship between length_seconds, and latitude & longitude, respectively; while -0.1 shows a negative or non-relationship between longitude & latitude. "
   ]
  },
  {
   "cell_type": "markdown",
   "id": "91aa2ca2",
   "metadata": {},
   "source": [
    "#### Scatterplots:"
   ]
  },
  {
   "cell_type": "code",
   "execution_count": 18,
   "id": "d8242f94",
   "metadata": {},
   "outputs": [
    {
     "data": {
      "text/plain": [
       "<seaborn.axisgrid.FacetGrid at 0x24eb6216d90>"
      ]
     },
     "execution_count": 18,
     "metadata": {},
     "output_type": "execute_result"
    },
    {
     "data": {
      "image/png": "[encoded data removed]",
      "text/plain": [
       "<Figure size 360x360 with 1 Axes>"
      ]
     },
     "metadata": {
      "needs_background": "light"
     },
     "output_type": "display_data"
    }
   ],
   "source": [
    "# Create scatterplot for 'length_seconds' and 'latitude' columns in seaborn\n",
    "sns.lmplot(x = 'latitude', y = 'length_seconds', data = df)"
   ]
  },
  {
   "cell_type": "markdown",
   "id": "d17c7de7",
   "metadata": {},
   "source": [
    "##### The tick marks on the Y-axis must represent a 100M multiplier, as the relatively few visible data points are fairly extreme outliers, the highest in the data set being 97,836,000 seconds, which represents a described encounter of 31 years. Likely not a useful viz otherwise, but it does display the highest outliers, and it appears there may be some correlation with these and a certain area of latitude. We can picture a nearly vertical trend line among them. This may warrant futher investigation."
   ]
  },
  {
   "cell_type": "code",
   "execution_count": 19,
   "id": "f80ac61f",
   "metadata": {},
   "outputs": [
    {
     "data": {
      "text/plain": [
       "<seaborn.axisgrid.FacetGrid at 0x24eb611f7c0>"
      ]
     },
     "execution_count": 19,
     "metadata": {},
     "output_type": "execute_result"
    },
    {
     "data": {
      "image/png": "[encoded data removed]",
      "text/plain": [
       "<Figure size 360x360 with 1 Axes>"
      ]
     },
     "metadata": {
      "needs_background": "light"
     },
     "output_type": "display_data"
    }
   ],
   "source": [
    "# Create scatterplot for 'length_seconds' and 'longitude' columns in seaborn\n",
    "sns.lmplot(x = 'longitude', y = 'length_seconds', data = df)"
   ]
  },
  {
   "cell_type": "markdown",
   "id": "3c56d956",
   "metadata": {},
   "source": [
    "##### Similar result using longitude, however there is a slightly wider spread among the lowest visible outliers."
   ]
  },
  {
   "cell_type": "markdown",
   "id": "5d1117ac",
   "metadata": {},
   "source": [
    "#### Pair Plots:"
   ]
  },
  {
   "cell_type": "code",
   "execution_count": 20,
   "id": "183ea05d",
   "metadata": {},
   "outputs": [],
   "source": [
    "# Removing unstructured variables, likely causing pair plot command to freeze.\n",
    "\n",
    "sub_2 = df[['length_seconds', 'latitude', 'longitude']] "
   ]
  },
  {
   "cell_type": "code",
   "execution_count": 21,
   "id": "26a41b58",
   "metadata": {},
   "outputs": [],
   "source": [
    "# Create pair plot of above subset\n",
    "\n",
    "#g = sns.pairplot(sub_2) "
   ]
  },
  {
   "cell_type": "markdown",
   "id": "3c4a3d29",
   "metadata": {},
   "source": [
    "##### Multiple attempts to create pair plot above, using entire data set & various subsets. The commmand would eventually freeze the kernel every time, no memory error, just stops responding."
   ]
  },
  {
   "cell_type": "markdown",
   "id": "95525007",
   "metadata": {},
   "source": [
    "#### Categorical Plots:"
   ]
  },
  {
   "cell_type": "code",
   "execution_count": 22,
   "id": "4371f8e8",
   "metadata": {},
   "outputs": [],
   "source": [
    "# Create sighting length categories"
   ]
  },
  {
   "cell_type": "code",
   "execution_count": 23,
   "id": "dbf518a2",
   "metadata": {},
   "outputs": [],
   "source": [
    "df.loc[df['length_seconds'] < 60, 'Length category'] = 'Brief sighting'"
   ]
  },
  {
   "cell_type": "code",
   "execution_count": 24,
   "id": "38655354",
   "metadata": {},
   "outputs": [],
   "source": [
    "df.loc[(df['length_seconds'] >= 60) & (df['length_seconds'] <= 300), 'Length category'] = 'Short sighting'"
   ]
  },
  {
   "cell_type": "code",
   "execution_count": 25,
   "id": "461f15d0",
   "metadata": {},
   "outputs": [],
   "source": [
    "df.loc[df['length_seconds'] > 300, 'Length category'] = 'Long sighting'"
   ]
  },
  {
   "cell_type": "code",
   "execution_count": 26,
   "id": "092aea1b",
   "metadata": {},
   "outputs": [
    {
     "data": {
      "text/plain": [
       "Short sighting    27094\n",
       "Long sighting     24425\n",
       "Brief sighting    21139\n",
       "Name: Length category, dtype: int64"
      ]
     },
     "execution_count": 26,
     "metadata": {},
     "output_type": "execute_result"
    }
   ],
   "source": [
    "df['Length category'].value_counts(dropna = False)"
   ]
  },
  {
   "cell_type": "code",
   "execution_count": 27,
   "id": "829a307a",
   "metadata": {},
   "outputs": [
    {
     "data": {
      "text/plain": [
       "Index(['Date_time', 'city', 'state/province', 'country', 'UFO_shape',\n",
       "       'length_seconds', 'duration_description', 'description',\n",
       "       'date_documented', 'latitude', 'longitude', 'Length category'],\n",
       "      dtype='object')"
      ]
     },
     "execution_count": 27,
     "metadata": {},
     "output_type": "execute_result"
    }
   ],
   "source": [
    "df.columns"
   ]
  },
  {
   "cell_type": "code",
   "execution_count": 28,
   "id": "f0e62b44",
   "metadata": {},
   "outputs": [
    {
     "data": {
      "image/png": "[encoded data removed]",
      "text/plain": [
       "<Figure size 467.1x360 with 1 Axes>"
      ]
     },
     "metadata": {},
     "output_type": "display_data"
    }
   ],
   "source": [
    "# Create categorical plot in seaborn using sighting length categories created above\n",
    "\n",
    "sns.set(style=\"ticks\")\n",
    "g = sns.catplot(x=\"country\", y=\"length_seconds\", hue=\"Length category\", data=df)"
   ]
  },
  {
   "cell_type": "markdown",
   "id": "a6f55a43",
   "metadata": {},
   "source": [
    "##### Similarity to the above scatterplots is seen, likely due to long sighting outliers. Additional wrangling of the data may enable a better view of the sighting length distributions. While most questions remain unanswerable at this point, it can be seen that approximately a dozen of the longest sightings occurred in the US, with the single longest sighting recorded in Canada."
   ]
  },
  {
   "cell_type": "code",
   "execution_count": 29,
   "id": "daf7373b",
   "metadata": {},
   "outputs": [],
   "source": [
    "# export current dataframe to Prepared Data\n",
    "df.to_csv(os.path.join(path, '02 Data Sets', 'Prepared Data', 'ufo_sighting_data_explored.csv')) "
   ]
  },
  {
   "cell_type": "markdown",
   "id": "7272fa99",
   "metadata": {},
   "source": [
    "### 4. Hypotheses\n",
    "\n",
    "##### * If specific geographic areas have many recorded sightings, then a majority of these will have common descriptive attributes, such as shape, motion, or sound.\n",
    "\n",
    "##### * If a large concentration of sightings are reported in a remote area, then close proximity to a military test site may provide partial explanation, while remaining officially unsolved due to classified information.\n",
    "\n",
    "To quote a news release from 6/22/98: \"It may be valuable to carefully evaluate UFO reports to extract information about unusual phenomena currently unknown to science.\" To be credible to the scientific community \"such evaluations must take place with a spirit of objectivity and a willingness to evaluate rival hypotheses\" \n",
    "\n",
    "https://news.stanford.edu/pr/98/980629ufostudy.html"
   ]
  },
  {
   "cell_type": "code",
   "execution_count": null,
   "id": "c2846a5b",
   "metadata": {},
   "outputs": [],
   "source": []
  }
 ],
 "metadata": {
  "kernelspec": {
   "display_name": "Python 3 (ipykernel)",
   "language": "python",
   "name": "python3"
  },
  "language_info": {
   "codemirror_mode": {
    "name": "ipython",
    "version": 3
   },
   "file_extension": ".py",
   "mimetype": "text/x-python",
   "name": "python",
   "nbconvert_exporter": "python",
   "pygments_lexer": "ipython3",
   "version": "3.9.7"
  }
 },
 "nbformat": 4,
 "nbformat_minor": 5
}
