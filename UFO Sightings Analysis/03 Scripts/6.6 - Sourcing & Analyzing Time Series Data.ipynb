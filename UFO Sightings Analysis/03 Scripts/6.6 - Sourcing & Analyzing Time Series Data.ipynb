{
 "cells": [
  {
   "cell_type": "markdown",
   "id": "94c07a53",
   "metadata": {},
   "source": [
    "### Script contents:\n",
    "\n",
    "#### 1. Importing libraries and data\n",
    "#### 2. Subsetting, wrangling, & cleaning\n",
    "#### 3. Time series analysis: Decomposition\n",
    "#### 4. Testing for stationarity\n",
    "#### 5. Stationarizing the data"
   ]
  },
  {
   "cell_type": "markdown",
   "id": "fd6e2c33",
   "metadata": {},
   "source": [
    "### 1. Importing libraries and data"
   ]
  },
  {
   "cell_type": "code",
   "execution_count": 1,
   "id": "26d690bc",
   "metadata": {},
   "outputs": [],
   "source": [
    "import quandl\n",
    "import pandas as pd\n",
    "import numpy as np\n",
    "import seaborn as sns\n",
    "import matplotlib\n",
    "import matplotlib.pyplot as plt\n",
    "import statsmodels.api as sm # Using .api imports the public access version of statsmodels, which is a library that handles \n",
    "# statistical models.\n",
    "import os\n",
    "import warnings # This is a library that handles warnings.\n",
    "\n",
    "warnings.filterwarnings(\"ignore\") # Disable deprecation warnings that could indicate, for instance, a suspended library or \n",
    "# feature. These are more relevant to developers and very seldom to analysts.\n",
    "\n",
    "plt.style.use('fivethirtyeight') # This is a styling option for how your plots will appear. More examples here:\n",
    "# https://matplotlib.org/3.2.1/tutorials/introductory/customizing.html\n",
    "# https://matplotlib.org/3.1.0/gallery/style_sheets/fivethirtyeight.html"
   ]
  },
  {
   "cell_type": "markdown",
   "id": "687a80cc",
   "metadata": {},
   "source": [
    "Registered for Quandl account during exercise portion of this task, however I had previoisly sourced the data set to be applied here during my initial search."
   ]
  },
  {
   "cell_type": "code",
   "execution_count": 2,
   "id": "334b6531",
   "metadata": {},
   "outputs": [],
   "source": [
    "# Define path\n",
    "path = r'C:\\Users\\Jay\\Documents\\UFO Sightings Analysis'"
   ]
  },
  {
   "cell_type": "code",
   "execution_count": 3,
   "id": "cb27581d",
   "metadata": {},
   "outputs": [],
   "source": [
    "# Import \"meteorite-landings\" data set\n",
    "df = pd.read_csv(os.path.join(path, '02 Data Sets', 'Prepared Data', 'meteorite-landings-scrubbed.csv'))"
   ]
  },
  {
   "cell_type": "code",
   "execution_count": 4,
   "id": "f4f191f9",
   "metadata": {},
   "outputs": [
    {
     "data": {
      "text/html": [
       "<div>\n",
       "<style scoped>\n",
       "    .dataframe tbody tr th:only-of-type {\n",
       "        vertical-align: middle;\n",
       "    }\n",
       "\n",
       "    .dataframe tbody tr th {\n",
       "        vertical-align: top;\n",
       "    }\n",
       "\n",
       "    .dataframe thead th {\n",
       "        text-align: right;\n",
       "    }\n",
       "</style>\n",
       "<table border=\"1\" class=\"dataframe\">\n",
       "  <thead>\n",
       "    <tr style=\"text-align: right;\">\n",
       "      <th></th>\n",
       "      <th>name</th>\n",
       "      <th>id</th>\n",
       "      <th>nametype</th>\n",
       "      <th>recclass</th>\n",
       "      <th>mass</th>\n",
       "      <th>fall</th>\n",
       "      <th>year</th>\n",
       "      <th>reclat</th>\n",
       "      <th>reclong</th>\n",
       "      <th>GeoLocation</th>\n",
       "    </tr>\n",
       "  </thead>\n",
       "  <tbody>\n",
       "    <tr>\n",
       "      <th>0</th>\n",
       "      <td>Chelyabinsk</td>\n",
       "      <td>57165</td>\n",
       "      <td>Valid</td>\n",
       "      <td>LL5</td>\n",
       "      <td>100000.0</td>\n",
       "      <td>Fell</td>\n",
       "      <td>2013</td>\n",
       "      <td>54.817</td>\n",
       "      <td>61.117</td>\n",
       "      <td>(54.816670, 61.116670)</td>\n",
       "    </tr>\n",
       "    <tr>\n",
       "      <th>1</th>\n",
       "      <td>Jiddat al Harasis 799</td>\n",
       "      <td>57428</td>\n",
       "      <td>Valid</td>\n",
       "      <td>LL6</td>\n",
       "      <td>212.0</td>\n",
       "      <td>Found</td>\n",
       "      <td>2012</td>\n",
       "      <td>19.773</td>\n",
       "      <td>56.390</td>\n",
       "      <td>(19.772780, 56.389820)</td>\n",
       "    </tr>\n",
       "    <tr>\n",
       "      <th>2</th>\n",
       "      <td>Ksar Ghilane 011</td>\n",
       "      <td>55606</td>\n",
       "      <td>Valid</td>\n",
       "      <td>L4</td>\n",
       "      <td>25.6</td>\n",
       "      <td>Found</td>\n",
       "      <td>2012</td>\n",
       "      <td>32.891</td>\n",
       "      <td>9.913</td>\n",
       "      <td>(32.891000, 9.913000)</td>\n",
       "    </tr>\n",
       "    <tr>\n",
       "      <th>3</th>\n",
       "      <td>Ksar Ghilane 010</td>\n",
       "      <td>55605</td>\n",
       "      <td>Valid</td>\n",
       "      <td>L5</td>\n",
       "      <td>50.1</td>\n",
       "      <td>Found</td>\n",
       "      <td>2012</td>\n",
       "      <td>32.806</td>\n",
       "      <td>9.833</td>\n",
       "      <td>(32.806000, 9.833000)</td>\n",
       "    </tr>\n",
       "    <tr>\n",
       "      <th>4</th>\n",
       "      <td>Northwest Africa 7496</td>\n",
       "      <td>56314</td>\n",
       "      <td>Valid</td>\n",
       "      <td>Eucrite-pmict</td>\n",
       "      <td>788.4</td>\n",
       "      <td>Found</td>\n",
       "      <td>2012</td>\n",
       "      <td>22.948</td>\n",
       "      <td>-13.385</td>\n",
       "      <td>(22.947810, -13.385270)</td>\n",
       "    </tr>\n",
       "  </tbody>\n",
       "</table>\n",
       "</div>"
      ],
      "text/plain": [
       "                    name     id nametype       recclass      mass   fall  \\\n",
       "0            Chelyabinsk  57165    Valid            LL5  100000.0   Fell   \n",
       "1  Jiddat al Harasis 799  57428    Valid            LL6     212.0  Found   \n",
       "2       Ksar Ghilane 011  55606    Valid             L4      25.6  Found   \n",
       "3       Ksar Ghilane 010  55605    Valid             L5      50.1  Found   \n",
       "4  Northwest Africa 7496  56314    Valid  Eucrite-pmict     788.4  Found   \n",
       "\n",
       "   year  reclat  reclong              GeoLocation  \n",
       "0  2013  54.817   61.117   (54.816670, 61.116670)  \n",
       "1  2012  19.773   56.390   (19.772780, 56.389820)  \n",
       "2  2012  32.891    9.913    (32.891000, 9.913000)  \n",
       "3  2012  32.806    9.833    (32.806000, 9.833000)  \n",
       "4  2012  22.948  -13.385  (22.947810, -13.385270)  "
      ]
     },
     "execution_count": 4,
     "metadata": {},
     "output_type": "execute_result"
    }
   ],
   "source": [
    "df.head(5)"
   ]
  },
  {
   "cell_type": "code",
   "execution_count": 5,
   "id": "56e01336",
   "metadata": {},
   "outputs": [
    {
     "data": {
      "text/plain": [
       "Index(['name', 'id', 'nametype', 'recclass', 'mass', 'fall', 'year', 'reclat',\n",
       "       'reclong', 'GeoLocation'],\n",
       "      dtype='object')"
      ]
     },
     "execution_count": 5,
     "metadata": {},
     "output_type": "execute_result"
    }
   ],
   "source": [
    "df.columns"
   ]
  },
  {
   "cell_type": "code",
   "execution_count": 6,
   "id": "98318984",
   "metadata": {},
   "outputs": [
    {
     "data": {
      "text/plain": [
       "pandas.core.frame.DataFrame"
      ]
     },
     "execution_count": 6,
     "metadata": {},
     "output_type": "execute_result"
    }
   ],
   "source": [
    "type(df)"
   ]
  },
  {
   "cell_type": "code",
   "execution_count": 7,
   "id": "31b5b811",
   "metadata": {},
   "outputs": [
    {
     "data": {
      "text/plain": [
       "(31689, 10)"
      ]
     },
     "execution_count": 7,
     "metadata": {},
     "output_type": "execute_result"
    }
   ],
   "source": [
    "df.shape"
   ]
  },
  {
   "cell_type": "markdown",
   "id": "16f08505",
   "metadata": {},
   "source": [
    "### 2. Subsetting, wrangling, & cleaning"
   ]
  },
  {
   "cell_type": "code",
   "execution_count": 8,
   "id": "2f112eb8",
   "metadata": {},
   "outputs": [
    {
     "data": {
      "text/html": [
       "<div>\n",
       "<style scoped>\n",
       "    .dataframe tbody tr th:only-of-type {\n",
       "        vertical-align: middle;\n",
       "    }\n",
       "\n",
       "    .dataframe tbody tr th {\n",
       "        vertical-align: top;\n",
       "    }\n",
       "\n",
       "    .dataframe thead th {\n",
       "        text-align: right;\n",
       "    }\n",
       "</style>\n",
       "<table border=\"1\" class=\"dataframe\">\n",
       "  <thead>\n",
       "    <tr style=\"text-align: right;\">\n",
       "      <th></th>\n",
       "      <th>year</th>\n",
       "      <th>mass</th>\n",
       "    </tr>\n",
       "  </thead>\n",
       "  <tbody>\n",
       "    <tr>\n",
       "      <th>0</th>\n",
       "      <td>2013</td>\n",
       "      <td>100000.0</td>\n",
       "    </tr>\n",
       "    <tr>\n",
       "      <th>1</th>\n",
       "      <td>2012</td>\n",
       "      <td>212.0</td>\n",
       "    </tr>\n",
       "    <tr>\n",
       "      <th>2</th>\n",
       "      <td>2012</td>\n",
       "      <td>25.6</td>\n",
       "    </tr>\n",
       "    <tr>\n",
       "      <th>3</th>\n",
       "      <td>2012</td>\n",
       "      <td>50.1</td>\n",
       "    </tr>\n",
       "    <tr>\n",
       "      <th>4</th>\n",
       "      <td>2012</td>\n",
       "      <td>788.4</td>\n",
       "    </tr>\n",
       "  </tbody>\n",
       "</table>\n",
       "</div>"
      ],
      "text/plain": [
       "   year      mass\n",
       "0  2013  100000.0\n",
       "1  2012     212.0\n",
       "2  2012      25.6\n",
       "3  2012      50.1\n",
       "4  2012     788.4"
      ]
     },
     "execution_count": 8,
     "metadata": {},
     "output_type": "execute_result"
    }
   ],
   "source": [
    "# Create data frame with only variables for use with time series\n",
    "df_t = df[['year', 'mass']]\n",
    "df_t.head()"
   ]
  },
  {
   "cell_type": "code",
   "execution_count": 9,
   "id": "8effe881",
   "metadata": {},
   "outputs": [
    {
     "data": {
      "text/plain": [
       "year      int64\n",
       "mass    float64\n",
       "dtype: object"
      ]
     },
     "execution_count": 9,
     "metadata": {},
     "output_type": "execute_result"
    }
   ],
   "source": [
    "df_t.dtypes"
   ]
  },
  {
   "cell_type": "code",
   "execution_count": 10,
   "id": "71a397c5",
   "metadata": {},
   "outputs": [
    {
     "data": {
      "text/plain": [
       "[<matplotlib.lines.Line2D at 0x195d9167f70>,\n",
       " <matplotlib.lines.Line2D at 0x195d9d0e040>]"
      ]
     },
     "execution_count": 10,
     "metadata": {},
     "output_type": "execute_result"
    },
    {
     "data": {
      "image/png": "[encoded data removed]",
      "text/plain": [
       "<Figure size 1500x500 with 1 Axes>"
      ]
     },
     "metadata": {},
     "output_type": "display_data"
    }
   ],
   "source": [
    "# Plot the data using matplotlib.\n",
    "\n",
    "plt.figure(figsize=(15,5), dpi=100) # The dpi argument controls the quality of the visualization here. When it's set to 100,\n",
    "# it will produce lower-than-standard quality, which is useful if, similar to this notebook, you'll have a lot of plots.\n",
    "# A large number of plots will increase the size of the notebook, which could take more time to load and eat up a lot of RAM!\n",
    "\n",
    "plt.plot(df_t)"
   ]
  },
  {
   "cell_type": "code",
   "execution_count": 11,
   "id": "2a40a28f",
   "metadata": {},
   "outputs": [],
   "source": [
    "# Create subset to align with date range in primary data set\n",
    "data = df_t.loc[(df_t['year'] >= 1906) & (df_t['year'] < 2015)]"
   ]
  },
  {
   "cell_type": "markdown",
   "id": "fc0893cf",
   "metadata": {},
   "source": [
    "##### In preparation to merge with UFO data, removed dates prior to 1906 and after 2014."
   ]
  },
  {
   "cell_type": "code",
   "execution_count": 12,
   "id": "3b616a8c",
   "metadata": {},
   "outputs": [
    {
     "data": {
      "text/plain": [
       "(30898, 2)"
      ]
     },
     "execution_count": 12,
     "metadata": {},
     "output_type": "execute_result"
    }
   ],
   "source": [
    "data.shape"
   ]
  },
  {
   "cell_type": "code",
   "execution_count": 13,
   "id": "9e78ed3f",
   "metadata": {},
   "outputs": [
    {
     "data": {
      "text/html": [
       "<div>\n",
       "<style scoped>\n",
       "    .dataframe tbody tr th:only-of-type {\n",
       "        vertical-align: middle;\n",
       "    }\n",
       "\n",
       "    .dataframe tbody tr th {\n",
       "        vertical-align: top;\n",
       "    }\n",
       "\n",
       "    .dataframe thead th {\n",
       "        text-align: right;\n",
       "    }\n",
       "</style>\n",
       "<table border=\"1\" class=\"dataframe\">\n",
       "  <thead>\n",
       "    <tr style=\"text-align: right;\">\n",
       "      <th></th>\n",
       "      <th>year</th>\n",
       "      <th>mass</th>\n",
       "    </tr>\n",
       "  </thead>\n",
       "  <tbody>\n",
       "    <tr>\n",
       "      <th>0</th>\n",
       "      <td>2013</td>\n",
       "      <td>100000.0</td>\n",
       "    </tr>\n",
       "    <tr>\n",
       "      <th>1</th>\n",
       "      <td>2012</td>\n",
       "      <td>212.0</td>\n",
       "    </tr>\n",
       "    <tr>\n",
       "      <th>2</th>\n",
       "      <td>2012</td>\n",
       "      <td>25.6</td>\n",
       "    </tr>\n",
       "    <tr>\n",
       "      <th>3</th>\n",
       "      <td>2012</td>\n",
       "      <td>50.1</td>\n",
       "    </tr>\n",
       "    <tr>\n",
       "      <th>4</th>\n",
       "      <td>2012</td>\n",
       "      <td>788.4</td>\n",
       "    </tr>\n",
       "  </tbody>\n",
       "</table>\n",
       "</div>"
      ],
      "text/plain": [
       "   year      mass\n",
       "0  2013  100000.0\n",
       "1  2012     212.0\n",
       "2  2012      25.6\n",
       "3  2012      50.1\n",
       "4  2012     788.4"
      ]
     },
     "execution_count": 13,
     "metadata": {},
     "output_type": "execute_result"
    }
   ],
   "source": [
    "data.head()"
   ]
  },
  {
   "cell_type": "markdown",
   "id": "227a54be",
   "metadata": {},
   "source": [
    "Reverting back to example data for this task, as all of the applicable variables in current project data are too random, therefore not suitable for stationarizing and forecasting a time series."
   ]
  }
 ],
 "metadata": {
  "kernelspec": {
   "display_name": "Python 3 (ipykernel)",
   "language": "python",
   "name": "python3"
  },
  "language_info": {
   "codemirror_mode": {
    "name": "ipython",
    "version": 3
   },
   "file_extension": ".py",
   "mimetype": "text/x-python",
   "name": "python",
   "nbconvert_exporter": "python",
   "pygments_lexer": "ipython3",
   "version": "3.9.7"
  }
 },
 "nbformat": 4,
 "nbformat_minor": 5
}
